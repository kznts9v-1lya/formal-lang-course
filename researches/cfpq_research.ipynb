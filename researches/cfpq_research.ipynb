{
  "nbformat": 4,
  "nbformat_minor": 0,
  "metadata": {
    "colab": {
      "name": "CFPQ research",
      "provenance": []
    },
    "kernelspec": {
      "name": "python3",
      "display_name": "Python 3"
    },
    "language_info": {
      "name": "python"
    },
    "accelerator": "GPU"
  },
  "cells": [
    {
      "cell_type": "markdown",
      "metadata": {
        "id": "R1s5-ZKPvJ54",
        "pycharm": {
          "name": "#%% md\n"
        }
      },
      "source": [
        "# Задача 12. Экспериментальное исследование алгоритмов решения задачи достижимости с контекстно-свободными ограничениями\n",
        "# Автор: [kznts9v-1lya](https://github.com/kznts9v-1lya)\n"
      ]
    },
    {
      "cell_type": "markdown",
      "metadata": {
        "id": "eBSWaL6AvWBJ"
      },
      "source": [
        "## Введение\n",
        "Пусть имеется размеченный ориентированный граф $G$. Будем интерпретировать его как конечный автомат. Таким образом, считаем, что граф $G$ (его представление в виде КА) задает регулярный язык $L_G$.\n",
        "\n",
        "Пусть нам задана КС-грамматика $CFG$, задающая язык ограничений $L_{CFG}$.\n",
        "\n",
        "Рассмотрим задачу $CFPQ = \\{(v_i, v_j)|\\exists\\pi:w(v_i\\pi v_j)\\in L, v_i\\in V_S, v_j\\in V_F\\}$, где $L = L_G\\cap L_{CFG}$\n",
        "\n",
        "Для языка $L_{CFG}$ строим рекурсивный автомат $-$ в нашем случае являющийся конечным автоматом над смешанным алфавитом грамматики."
      ]
    },
    {
      "cell_type": "markdown",
      "metadata": {
        "id": "QeZHINJ40Yf9",
        "pycharm": {
          "name": "#%% md\n"
        }
      },
      "source": [
        "## Постановка задачи\n",
        "Задача посвящена анализу производительности различных алгоритмов решения задачи достижимости с контекстно-свободными ограничениями: алгоритма Хеллингса, матричного алгоритма, тензорного алгоритма. В ходе анализа необходимо\n",
        "- Сравнить производительности реализаций различных алгоритмов для одной аппаратной платформы (CPU, GPU) и определить наиболее производительный алгоритм в рамках одной платформы.\n",
        "- Сравнить производительности различных реализаций алгоритмов для разных платформ (CPU vs. GPU) и определить наиболее производительную реализацию.\n",
        "- Сравнить производительности CFPQ алгоритмов со специализированными RPQ алгоритмами в задаче RPQ анализа и определить необходимость существования решения для частных случаев."
      ]
    },
    {
      "cell_type": "markdown",
      "metadata": {
        "id": "jiHQYjlV0xSX"
      },
      "source": [
        "## Описание работы\n",
        "\n",
        "- [x] Используя [pyCuBool](https://pypi.org/project/pycubool/) реализовать матричный алгоритм решения задачи достижимости с КС ограничениями. Аналогично тому, как это было сделано в домашней работе 10.\n",
        "- [x] Используя [pyCuBool](https://pypi.org/project/pycubool/) реализовать тензорный алгоритм решения задачи достижимости с КС ограничениями. Аналогично тому, как это было сделано в домашней работе 11.\n",
        "- [x] Подключить реализацию алгоритма Хеллингса из работы 9, матричного из 10 и тензорного из 11.\n",
        "- [x] Сформировать набор данных.\n",
        "  - [x] Выбрать все графы из раздела [RDF](https://jetbrains-research.github.io/CFPQ_Data/dataset/RDF.html).\n",
        "  - [x] Запросы к RDF состоят из следующих блоков\n",
        "    - Запросы из работы 5. Так как регулярные языки --- это подмножество контекстно-свободных, то решения, рассматриваемые в данной работе должны справляться с ними. Взять необходимо ровно те запросы, которые использовали именно вы. При этом, обратите внимание на то, что для разных алгоритмов нужен разный формат входа. Например, для тензорного грамматику из регулярного выражения можно получить просто сделав это выражение правой частью единственного правила.\n",
        "    - Три классических запроса для анализа иерархии.\n",
        "      - ```S -> subClassOf_r S subClassOf | type_r S type | subClassOf_r subClassOf | type_r type ```\n",
        "      - ```S -> subClassOf_r S subClassOf | subClassOf ```\n",
        "      - ```S -> broaderTransitive S broaderTransitive_r | broaderTransitive broaderTransitive_r ```\n",
        "  - [x] Выбрать графы bzip, gzip, ls, init, drivers, arch. Это графы, построенные по реальным программам и предназначенные для решения задач статического анализа.\n",
        "  - [x] Для статического анализа использовать единственный запрос. Обратите внимание, что он записан в максимально общем виде и непосредственно грамматика будет зависеть от алгоритма, который будет исследоваться.\n",
        "    - ```\n",
        "       M -> d_r V d\n",
        "       V -> (M? a_r)∗ M? (a M?)∗\n",
        "      ```\n",
        "- [x] С использованием сформированного набора данных провести сравнение производительности следующих решений\n",
        "  - алгоритм Хеллингса\n",
        "  - матричный алгоритм, реализованный с использованием sciPy\n",
        "  - тензорный алгоритм, реализованный с использованием sciPy\n",
        "  - матричный алгоритм, реализованный с использованием pyCuBool\n",
        "  - тензорный алгоритм, реализованный с использованием pyCuBool\n",
        "  - алгоритм выполнения регулярных запросов, реализованный с использованием pyCuBool (работа 5). Здесь только для RDF и регулярных запросов.\n",
        "  - алгоритм выполнения регулярных запросов, реализованный с использованием sciPy. Здесь только для RDF и регулярных запросов.\n",
        "- [x] Оформить результаты экспериментов\n",
        "- [x] Провести анализ результатов\n",
        "- [x] Сделать notebook доступным по ссылке (обязательно выдать права на комментирование проверяющему)"
      ]
    },
    {
      "cell_type": "markdown",
      "source": [
        "## Настройка проекта и зависимостей"
      ],
      "metadata": {
        "id": "7tIGrTTtkpDh"
      }
    },
    {
      "cell_type": "code",
      "source": [
        "!git clone https://github.com/kznts9v-1lya/formal-lang-course.git &> /dev/null"
      ],
      "metadata": {
        "id": "Qxoo8BC1kxBi"
      },
      "execution_count": 1,
      "outputs": []
    },
    {
      "cell_type": "code",
      "source": [
        "%cd formal-lang-course"
      ],
      "metadata": {
        "colab": {
          "base_uri": "https://localhost:8080/"
        },
        "id": "EMVc7eWnk1zC",
        "outputId": "d0fb05d6-c892-45cf-ce70-0d18206fbe3b"
      },
      "execution_count": 2,
      "outputs": [
        {
          "output_type": "stream",
          "name": "stdout",
          "text": [
            "/content/formal-lang-course\n"
          ]
        }
      ]
    },
    {
      "cell_type": "code",
      "source": [
        "!git checkout task12-cfpq-research &> /dev/null"
      ],
      "metadata": {
        "id": "y-mE1ka6tJuD"
      },
      "execution_count": 3,
      "outputs": []
    },
    {
      "cell_type": "code",
      "source": [
        "%mkdir -p benchmark\n",
        "%mkdir benchmark/scipy_cfpq_matrix\n",
        "%mkdir benchmark/pycubool_cfpq_matrix\n",
        "%mkdir benchmark/scipy_cfpq_hellings\n",
        "%mkdir benchmark/scipy_cfpq_tensor\n",
        "%mkdir benchmark/pycubool_cfpq_tensor"
      ],
      "metadata": {
        "id": "FrfaHQ8Pk2eU"
      },
      "execution_count": 50,
      "outputs": []
    },
    {
      "cell_type": "code",
      "source": [
        "!pip install -r requirements.txt &> /dev/null"
      ],
      "metadata": {
        "id": "IarVeZDMk4Ot"
      },
      "execution_count": 5,
      "outputs": []
    },
    {
      "cell_type": "code",
      "source": [
        "!pip install pycubool &> /dev/null"
      ],
      "metadata": {
        "id": "wuoEBPRul5p8"
      },
      "execution_count": 4,
      "outputs": []
    },
    {
      "cell_type": "markdown",
      "source": [
        "## Описание набора данных"
      ],
      "metadata": {
        "id": "uCuP-_zGHCya"
      }
    },
    {
      "cell_type": "markdown",
      "source": [
        "### Графы\n",
        "\n",
        "Датасет состоит из графов и запросов, представленных контекстно-свободными грамматиками над метками соответствующих графов.\n",
        "\n",
        "Для проведения эксперимета использовались RDF графы, представленные в библиотеке [CFPQ_Data](https://github.com/JetBrains-Research/CFPQ_Data), кроме графов *taxonomy*, *taxonomy_hierarchy* (которые не поместились в ОЗУ) и *go_hierarchy* (который имеет всего одну метку)."
      ],
      "metadata": {
        "id": "AU4p6u14gu01"
      }
    },
    {
      "cell_type": "code",
      "source": [
        "from project.graph_tools import get_from_dataset"
      ],
      "metadata": {
        "id": "v2eedm0fnqNk"
      },
      "execution_count": 6,
      "outputs": []
    },
    {
      "cell_type": "code",
      "source": [
        "graph_names = [\n",
        "             'atom_primitive', \n",
        "             'biomedical_mesure_primitive', \n",
        "             'core', \n",
        "             'eclass_514en', \n",
        "             'enzyme', \n",
        "             'foaf', \n",
        "             'funding', \n",
        "             'generations', \n",
        "             'geospecies', \n",
        "             'go', \n",
        "             'go_hierarchy', \n",
        "             'pathways', \n",
        "             'people_pets', \n",
        "             'pizza', \n",
        "             'skos', \n",
        "             'travel', \n",
        "             'univ_bench', \n",
        "             'wine'\n",
        "] "
      ],
      "metadata": {
        "id": "fwH0AhcPoX5r"
      },
      "execution_count": 7,
      "outputs": []
    },
    {
      "cell_type": "markdown",
      "source": [
        "#### Загрузка данных"
      ],
      "metadata": {
        "id": "ZJWqPRRPoeJP"
      }
    },
    {
      "cell_type": "code",
      "source": [
        "graphs = {}\n",
        "\n",
        "for name in graph_names:\n",
        "  graph = get_from_dataset(name, True)\n",
        "  graphs[name] = graph"
      ],
      "metadata": {
        "colab": {
          "base_uri": "https://localhost:8080/"
        },
        "id": "DO6BGyyyopXK",
        "outputId": "897635ae-9992-4148-ce76-6a883d00538d"
      },
      "execution_count": 8,
      "outputs": [
        {
          "output_type": "stream",
          "name": "stderr",
          "text": [
            "Loading...: 100%|██████████| 425/425 [00:00<00:00, 85286.79it/s]\n",
            "Loading...: 100%|██████████| 459/459 [00:00<00:00, 35558.08it/s]\n",
            "Loading...: 100%|██████████| 2752/2752 [00:00<00:00, 81040.25it/s]\n",
            "Loading...: 100%|██████████| 360248/360248 [00:07<00:00, 51006.87it/s]\n",
            "Loading...: 100%|██████████| 86543/86543 [00:03<00:00, 27126.17it/s]\n",
            "Loading...: 100%|██████████| 631/631 [00:00<00:00, 117236.14it/s]\n",
            "Loading...: 100%|██████████| 1086/1086 [00:00<00:00, 66891.07it/s]\n",
            "Loading...: 100%|██████████| 273/273 [00:00<00:00, 123574.90it/s]\n",
            "file:///usr/local/lib/python3.7/dist-packages/cfpq_data/data/RDF/Graphs/<http:/sw.opencyc.org/concept/Mx4rvVi495wpEbGdrcN5Y29ycA> does not look like a valid URI, trying to serialize this will break.\n",
            "file:///usr/local/lib/python3.7/dist-packages/cfpq_data/data/RDF/Graphs/<http:/sw.opencyc.org/concept/Mx4rvVi495wpEbGdrcN5Y29ycA> does not look like a valid URI, trying to serialize this will break.\n",
            "Loading...: 100%|██████████| 2201532/2201532 [00:42<00:00, 52044.69it/s]\n",
            "Loading...: 100%|██████████| 1437437/1437437 [00:36<00:00, 39783.00it/s]\n",
            "Loading...: 100%|██████████| 490109/490109 [00:05<00:00, 97232.45it/s] \n",
            "Loading...: 100%|██████████| 12363/12363 [00:00<00:00, 80784.47it/s]\n",
            "Loading...: 100%|██████████| 640/640 [00:00<00:00, 110877.92it/s]\n",
            "Loading...: 100%|██████████| 1980/1980 [00:00<00:00, 89212.71it/s]\n",
            "Loading...: 100%|██████████| 252/252 [00:00<00:00, 51080.83it/s]\n",
            "Loading...: 100%|██████████| 277/277 [00:00<00:00, 116860.01it/s]\n",
            "Loading...: 100%|██████████| 293/293 [00:00<00:00, 77364.25it/s]\n",
            "Loading...: 100%|██████████| 1839/1839 [00:00<00:00, 88816.12it/s]\n"
          ]
        }
      ]
    },
    {
      "cell_type": "markdown",
      "source": [
        "#### Характеристики данных"
      ],
      "metadata": {
        "id": "QUzf7i-rvmlS"
      }
    },
    {
      "cell_type": "code",
      "source": [
        "import pandas as pd\n",
        "\n",
        "data = {name: [graph.description.nodes, graph.description.edges, len(graph.description.edge_labels)] for name, graph in graphs.items()}\n",
        "columns = ['Nodes', 'Edges', 'Labels']\n",
        "\n",
        "graph_descriptions = pd.DataFrame.from_dict(data, orient='index', columns=columns)\n",
        "\n",
        "graph_descriptions"
      ],
      "metadata": {
        "colab": {
          "base_uri": "https://localhost:8080/",
          "height": 614
        },
        "id": "wrJv0ZBSvoJY",
        "outputId": "c1b262a2-3efe-406e-9c3a-9441504064b7"
      },
      "execution_count": 9,
      "outputs": [
        {
          "output_type": "execute_result",
          "data": {
            "text/html": [
              "<div>\n",
              "<style scoped>\n",
              "    .dataframe tbody tr th:only-of-type {\n",
              "        vertical-align: middle;\n",
              "    }\n",
              "\n",
              "    .dataframe tbody tr th {\n",
              "        vertical-align: top;\n",
              "    }\n",
              "\n",
              "    .dataframe thead th {\n",
              "        text-align: right;\n",
              "    }\n",
              "</style>\n",
              "<table border=\"1\" class=\"dataframe\">\n",
              "  <thead>\n",
              "    <tr style=\"text-align: right;\">\n",
              "      <th></th>\n",
              "      <th>Nodes</th>\n",
              "      <th>Edges</th>\n",
              "      <th>Labels</th>\n",
              "    </tr>\n",
              "  </thead>\n",
              "  <tbody>\n",
              "    <tr>\n",
              "      <th>atom_primitive</th>\n",
              "      <td>291</td>\n",
              "      <td>425</td>\n",
              "      <td>17</td>\n",
              "    </tr>\n",
              "    <tr>\n",
              "      <th>biomedical_mesure_primitive</th>\n",
              "      <td>341</td>\n",
              "      <td>459</td>\n",
              "      <td>10</td>\n",
              "    </tr>\n",
              "    <tr>\n",
              "      <th>core</th>\n",
              "      <td>1323</td>\n",
              "      <td>2752</td>\n",
              "      <td>31</td>\n",
              "    </tr>\n",
              "    <tr>\n",
              "      <th>eclass_514en</th>\n",
              "      <td>239111</td>\n",
              "      <td>360248</td>\n",
              "      <td>10</td>\n",
              "    </tr>\n",
              "    <tr>\n",
              "      <th>enzyme</th>\n",
              "      <td>48815</td>\n",
              "      <td>86543</td>\n",
              "      <td>14</td>\n",
              "    </tr>\n",
              "    <tr>\n",
              "      <th>foaf</th>\n",
              "      <td>256</td>\n",
              "      <td>631</td>\n",
              "      <td>15</td>\n",
              "    </tr>\n",
              "    <tr>\n",
              "      <th>funding</th>\n",
              "      <td>778</td>\n",
              "      <td>1086</td>\n",
              "      <td>20</td>\n",
              "    </tr>\n",
              "    <tr>\n",
              "      <th>generations</th>\n",
              "      <td>129</td>\n",
              "      <td>273</td>\n",
              "      <td>17</td>\n",
              "    </tr>\n",
              "    <tr>\n",
              "      <th>geospecies</th>\n",
              "      <td>450609</td>\n",
              "      <td>2201532</td>\n",
              "      <td>165</td>\n",
              "    </tr>\n",
              "    <tr>\n",
              "      <th>go</th>\n",
              "      <td>582929</td>\n",
              "      <td>1437437</td>\n",
              "      <td>47</td>\n",
              "    </tr>\n",
              "    <tr>\n",
              "      <th>go_hierarchy</th>\n",
              "      <td>45007</td>\n",
              "      <td>490109</td>\n",
              "      <td>1</td>\n",
              "    </tr>\n",
              "    <tr>\n",
              "      <th>pathways</th>\n",
              "      <td>6238</td>\n",
              "      <td>12363</td>\n",
              "      <td>5</td>\n",
              "    </tr>\n",
              "    <tr>\n",
              "      <th>people_pets</th>\n",
              "      <td>337</td>\n",
              "      <td>640</td>\n",
              "      <td>25</td>\n",
              "    </tr>\n",
              "    <tr>\n",
              "      <th>pizza</th>\n",
              "      <td>671</td>\n",
              "      <td>1980</td>\n",
              "      <td>23</td>\n",
              "    </tr>\n",
              "    <tr>\n",
              "      <th>skos</th>\n",
              "      <td>144</td>\n",
              "      <td>252</td>\n",
              "      <td>21</td>\n",
              "    </tr>\n",
              "    <tr>\n",
              "      <th>travel</th>\n",
              "      <td>131</td>\n",
              "      <td>277</td>\n",
              "      <td>22</td>\n",
              "    </tr>\n",
              "    <tr>\n",
              "      <th>univ_bench</th>\n",
              "      <td>179</td>\n",
              "      <td>293</td>\n",
              "      <td>14</td>\n",
              "    </tr>\n",
              "    <tr>\n",
              "      <th>wine</th>\n",
              "      <td>733</td>\n",
              "      <td>1839</td>\n",
              "      <td>35</td>\n",
              "    </tr>\n",
              "  </tbody>\n",
              "</table>\n",
              "</div>"
            ],
            "text/plain": [
              "                              Nodes    Edges  Labels\n",
              "atom_primitive                  291      425      17\n",
              "biomedical_mesure_primitive     341      459      10\n",
              "core                           1323     2752      31\n",
              "eclass_514en                 239111   360248      10\n",
              "enzyme                        48815    86543      14\n",
              "foaf                            256      631      15\n",
              "funding                         778     1086      20\n",
              "generations                     129      273      17\n",
              "geospecies                   450609  2201532     165\n",
              "go                           582929  1437437      47\n",
              "go_hierarchy                  45007   490109       1\n",
              "pathways                       6238    12363       5\n",
              "people_pets                     337      640      25\n",
              "pizza                           671     1980      23\n",
              "skos                            144      252      21\n",
              "travel                          131      277      22\n",
              "univ_bench                      179      293      14\n",
              "wine                            733     1839      35"
            ]
          },
          "metadata": {},
          "execution_count": 9
        }
      ]
    },
    {
      "cell_type": "markdown",
      "source": [
        "Граф go_hierarchy имеет всего 1 метку, поэтому не будем рассматривать этот набор данных:"
      ],
      "metadata": {
        "id": "nDKx9aAmyBnU"
      }
    },
    {
      "cell_type": "code",
      "source": [
        "graph_names.remove('go_hierarchy')\n",
        "graphs.pop('go_hierarchy', None)"
      ],
      "metadata": {
        "colab": {
          "base_uri": "https://localhost:8080/"
        },
        "id": "Z41pgBS6yHdn",
        "outputId": "8b2b065b-f8ab-4a81-c0a6-9ca2adfbb86a"
      },
      "execution_count": 10,
      "outputs": [
        {
          "output_type": "execute_result",
          "data": {
            "text/plain": [
              "<project.graph_tools.Graph at 0x7f76834668d0>"
            ]
          },
          "metadata": {},
          "execution_count": 10
        }
      ]
    },
    {
      "cell_type": "markdown",
      "source": [
        "Разобьем графы на большие и небольшие для удобства постановки экспериментов:"
      ],
      "metadata": {
        "id": "fq2HmT_bypyl"
      }
    },
    {
      "cell_type": "code",
      "source": [
        "large_graph_names = ['eclass_514en', 'enzyme', 'geospecies', 'go']\n",
        "small_graph_names = list(set(graph_names) - set(large_graph_names))\n",
        "\n",
        "large_graphs = {name: graphs[name] for name in large_graph_names}\n",
        "small_graphs = {name: graphs[name] for name in small_graph_names}"
      ],
      "metadata": {
        "id": "ijEJ0s4nynGB"
      },
      "execution_count": 11,
      "outputs": []
    },
    {
      "cell_type": "markdown",
      "source": [
        "### Запросы\n",
        "\n",
        "- Регулярные запросы (так как регулярные языки $-$ это подмножество контекстно-свободных). К каждому графу $G$ отправлялись регулярные запросы следующего вида:\n",
        "\n",
        "  - $(l_1|l_2)*l_3$,\n",
        "\n",
        "  - $(l_1|l_2)^+l_3^*$,\n",
        "\n",
        "  - $l_1l_2l_3(l_4|l_1)^*$,\n",
        "\n",
        "  - $(l_1|l_2|l_3)^*$,\n",
        "  \n",
        "  где $l_1, l_2, l_3, l_4$ – первые 4 метки графа $G$. Все вершины графа помечались как стартовые и финальные.\n",
        "\n",
        "- Три классических запроса для анализа иерархии.\n",
        "\n",
        "  - ```\n",
        "  S -> subClassOf_r S subClassOf | type_r S type | subClassOf_r subClassOf | type_r type \n",
        "  ```\n",
        "\n",
        "  - ```\n",
        "  S -> subClassOf_r S subClassOf | subClassOf \n",
        "  ```\n",
        "\n",
        "  - ```\n",
        "  S -> broaderTransitive S broaderTransitive_r | broaderTransitive broaderTransitive_r \n",
        "  ```\n",
        "  \n",
        "- Для статического анализа:\n",
        "\n",
        "  - ```\n",
        "       M -> d_r V d\n",
        "       V -> (M? a_r)* M? (a M?)*\n",
        "    ```\n"
      ],
      "metadata": {
        "id": "cOSOmxy1nouE"
      }
    },
    {
      "cell_type": "markdown",
      "source": [
        "#### Генерация запросов"
      ],
      "metadata": {
        "id": "vykmsbqe44al"
      }
    },
    {
      "cell_type": "code",
      "source": [
        "from project.grammar_tools import get_cfg_from_text\n",
        "\n",
        "\n",
        "def create_first_regex(labels):\n",
        "  \"\"\"\n",
        "  (l1|l2)*l3\n",
        "  \"\"\"\n",
        "\n",
        "  r1 = str(labels[0])\n",
        "  r2 = str(labels[1])\n",
        "  r3 = str(labels[2])\n",
        "\n",
        "  return get_cfg_from_text(f'S -> A {r3}\\n A -> {r1} A \\n A -> {r2} A \\n A -> epsilon \\n')\n",
        "\n",
        "\n",
        "def create_second_regex(labels):\n",
        "  \"\"\"\n",
        "  (l1|l2)+l3*\n",
        "  \"\"\"\n",
        "\n",
        "  r1 = str(labels[0]) \n",
        "  r2 = str(labels[1])\n",
        "  r3 = str(labels[2])\n",
        "\n",
        "  return get_cfg_from_text(f'S -> С A B\\n A -> {r1} A \\n A -> {r2} A \\n A -> epsilon \\n B -> {r3} B \\n B -> epsilon \\n C -> {r1} | {r2}')\n",
        "\n",
        "\n",
        "def create_third_regex(labels):\n",
        "  \"\"\"\n",
        "  l1 l2 l3 (l4|l1)*\n",
        "  \"\"\"\n",
        "\n",
        "  r1 = str(labels[0])\n",
        "  r2 = str(labels[1])\n",
        "  r3 = str(labels[2])\n",
        "  r4 = str(labels[3])\n",
        "\n",
        "  return get_cfg_from_text(f'S -> {r1} {r2} {r3} A \\n A -> {r1} A \\n A -> {r4} A \\n A -> epsilon')\n",
        "\n",
        "\n",
        "def create_fourth_regex(labels):\n",
        "  \"\"\"\n",
        "  (l1|l2|l3)*\n",
        "  \"\"\"\n",
        "\n",
        "  r1 = str(labels[0])\n",
        "  r2 = str(labels[1])\n",
        "  r3 = str(labels[2])\n",
        "\n",
        "  return get_cfg_from_text(f'S -> epsilon \\n S -> {r1} S \\n S -> {r2} S \\n S -> {r3} S')\n",
        "\n",
        "\n",
        "def get_label_by_substr(labels, substr):\n",
        "  for label in labels:\n",
        "    if label.count(substr):\n",
        "      return label\n",
        "\n",
        "  return substr\n",
        "\n",
        "\n",
        "def add_reverse_labels(graph, labels, label):\n",
        "  e = list(graph.edges(data=\"label\", default=''))\n",
        "\n",
        "  for (u, v, l) in e:\n",
        "    if l.count(label):\n",
        "      graph.add_edge(v, u, label=l + '_r')\n",
        "\n",
        "\n",
        "def create_first_hierarchy(graph, labels):\n",
        "  subClassOf = get_label_by_substr(labels, 'subClassOf')\n",
        "  add_reverse_labels(graph, labels, 'subClassOf')\n",
        "  subClassOf_r = subClassOf + '_r'\n",
        "  type_ = get_label_by_substr(labels, 'type')\n",
        "  add_reverse_labels(graph, labels, 'type')\n",
        "  type_r = type_ + '_r'\n",
        "\n",
        "  return get_cfg_from_text(f'S -> {subClassOf_r} S {subClassOf} | {type_r} S {type_} | {subClassOf_r} {subClassOf} | {type_r} {type_}')\n",
        "\n",
        "\n",
        "def create_second_hierarchy(graph, labels):\n",
        "  subClassOf = get_label_by_substr(labels, 'subClassOf')\n",
        "  add_reverse_labels(graph, labels, 'subClassOf')\n",
        "  subClassOf_r = subClassOf + '_r'\n",
        "\n",
        "  return get_cfg_from_text(f'S -> {subClassOf_r} S {subClassOf} | {subClassOf}')\n",
        "\n",
        "\n",
        "def create_third_hierarchy(graph, labels):\n",
        "  broaderTransitive = get_label_by_substr(labels, 'broaderTransitive')\n",
        "  add_reverse_labels(graph, labels, 'broaderTransitive')\n",
        "  broaderTransitive_r = broaderTransitive + '_r'\n",
        "\n",
        "  return get_cfg_from_text(f'S -> {broaderTransitive} S {broaderTransitive_r} | {broaderTransitive} {broaderTransitive_r}')\n",
        "\n",
        "\n",
        "def create_queries(graph, labels):\n",
        "  return [\n",
        "      create_first_regex(labels),\n",
        "      create_second_regex(labels),\n",
        "      create_third_regex(labels),\n",
        "      create_fourth_regex(labels),\n",
        "      create_first_hierarchy(graph, labels),\n",
        "      create_second_hierarchy(graph, labels),\n",
        "      create_third_hierarchy(graph, labels)\n",
        "  ]"
      ],
      "metadata": {
        "id": "wtOdgPSV2u8w"
      },
      "execution_count": 12,
      "outputs": []
    },
    {
      "cell_type": "markdown",
      "source": [
        "## Описание эксперимента"
      ],
      "metadata": {
        "id": "yQm-3x6dHL_T"
      }
    },
    {
      "cell_type": "markdown",
      "source": [
        "### Оборудование\n",
        "Эксперимент проводился в облачной среде *Google Colab*. Алгоритм на основе матриц из `scipy` запускался на CPU, на основе `pycubool` – на GPU. \n"
      ],
      "metadata": {
        "id": "eLU7EFSijOUk"
      }
    },
    {
      "cell_type": "code",
      "source": [
        "!cat /etc/os-release"
      ],
      "metadata": {
        "colab": {
          "base_uri": "https://localhost:8080/"
        },
        "id": "29Pt6bBNjWu2",
        "outputId": "21921d60-3d58-47f5-af6f-b0fb611e8c63"
      },
      "execution_count": 13,
      "outputs": [
        {
          "output_type": "stream",
          "name": "stdout",
          "text": [
            "NAME=\"Ubuntu\"\n",
            "VERSION=\"18.04.5 LTS (Bionic Beaver)\"\n",
            "ID=ubuntu\n",
            "ID_LIKE=debian\n",
            "PRETTY_NAME=\"Ubuntu 18.04.5 LTS\"\n",
            "VERSION_ID=\"18.04\"\n",
            "HOME_URL=\"https://www.ubuntu.com/\"\n",
            "SUPPORT_URL=\"https://help.ubuntu.com/\"\n",
            "BUG_REPORT_URL=\"https://bugs.launchpad.net/ubuntu/\"\n",
            "PRIVACY_POLICY_URL=\"https://www.ubuntu.com/legal/terms-and-policies/privacy-policy\"\n",
            "VERSION_CODENAME=bionic\n",
            "UBUNTU_CODENAME=bionic\n"
          ]
        }
      ]
    },
    {
      "cell_type": "markdown",
      "source": [
        "CPU:"
      ],
      "metadata": {
        "id": "EH9yKOtejsOR"
      }
    },
    {
      "cell_type": "code",
      "source": [
        "!lscpu | grep 'Model name'\n",
        "!lscpu | grep 'Socket(s)'\n",
        "!lscpu | grep 'Core(s) per socket:'\n",
        "!lscpu | grep 'Thread(s) per core'\n",
        "!lscpu | grep \"MHz\""
      ],
      "metadata": {
        "colab": {
          "base_uri": "https://localhost:8080/"
        },
        "id": "ONhblglsjoDL",
        "outputId": "149b4c26-b765-4f6b-9a1d-fa0e8ee6fb21"
      },
      "execution_count": 14,
      "outputs": [
        {
          "output_type": "stream",
          "name": "stdout",
          "text": [
            "Model name:          Intel(R) Xeon(R) CPU @ 2.30GHz\n",
            "Socket(s):           1\n",
            "Core(s) per socket:  1\n",
            "Thread(s) per core:  2\n",
            "CPU MHz:             2299.998\n"
          ]
        }
      ]
    },
    {
      "cell_type": "markdown",
      "source": [
        "GPU:"
      ],
      "metadata": {
        "id": "iKg9azVOjwPw"
      }
    },
    {
      "cell_type": "code",
      "source": [
        "!/usr/local/cuda/bin/nvcc --version\n",
        "!nvidia-smi"
      ],
      "metadata": {
        "colab": {
          "base_uri": "https://localhost:8080/"
        },
        "id": "6d134PGvjyhK",
        "outputId": "402fd112-0879-4ec5-e4ed-b81361ddba5a"
      },
      "execution_count": 15,
      "outputs": [
        {
          "output_type": "stream",
          "name": "stdout",
          "text": [
            "nvcc: NVIDIA (R) Cuda compiler driver\n",
            "Copyright (c) 2005-2020 NVIDIA Corporation\n",
            "Built on Mon_Oct_12_20:09:46_PDT_2020\n",
            "Cuda compilation tools, release 11.1, V11.1.105\n",
            "Build cuda_11.1.TC455_06.29190527_0\n",
            "Mon Dec 13 20:09:53 2021       \n",
            "+-----------------------------------------------------------------------------+\n",
            "| NVIDIA-SMI 495.44       Driver Version: 460.32.03    CUDA Version: 11.2     |\n",
            "|-------------------------------+----------------------+----------------------+\n",
            "| GPU  Name        Persistence-M| Bus-Id        Disp.A | Volatile Uncorr. ECC |\n",
            "| Fan  Temp  Perf  Pwr:Usage/Cap|         Memory-Usage | GPU-Util  Compute M. |\n",
            "|                               |                      |               MIG M. |\n",
            "|===============================+======================+======================|\n",
            "|   0  Tesla K80           Off  | 00000000:00:04.0 Off |                    0 |\n",
            "| N/A   72C    P8    33W / 149W |      0MiB / 11441MiB |      0%      Default |\n",
            "|                               |                      |                  N/A |\n",
            "+-------------------------------+----------------------+----------------------+\n",
            "                                                                               \n",
            "+-----------------------------------------------------------------------------+\n",
            "| Processes:                                                                  |\n",
            "|  GPU   GI   CI        PID   Type   Process name                  GPU Memory |\n",
            "|        ID   ID                                                   Usage      |\n",
            "|=============================================================================|\n",
            "|  No running processes found                                                 |\n",
            "+-----------------------------------------------------------------------------+\n"
          ]
        }
      ]
    },
    {
      "cell_type": "markdown",
      "source": [
        "RAM:"
      ],
      "metadata": {
        "id": "As4blN2ckKG7"
      }
    },
    {
      "cell_type": "code",
      "source": [
        "!grep MemTotal /proc/meminfo"
      ],
      "metadata": {
        "colab": {
          "base_uri": "https://localhost:8080/"
        },
        "id": "2GbpdghnkL8u",
        "outputId": "6c66e075-2a1b-408b-9268-eb667f32a49f"
      },
      "execution_count": 16,
      "outputs": [
        {
          "output_type": "stream",
          "name": "stdout",
          "text": [
            "MemTotal:       13302924 kB\n"
          ]
        }
      ]
    },
    {
      "cell_type": "markdown",
      "source": [
        "### Реализация алгоритмов\n",
        "\n"
      ],
      "metadata": {
        "id": "lZvfQgKV_Z2L"
      }
    },
    {
      "cell_type": "markdown",
      "source": [
        "#### scipy (CPU)"
      ],
      "metadata": {
        "id": "i83YZeE0HPcf"
      }
    },
    {
      "cell_type": "code",
      "source": [
        "from project.path_querying_tools import (\n",
        "    hellings_context_free_path_querying,\n",
        "    matrix_context_free_path_querying,\n",
        "    tensor_context_free_path_querying\n",
        ")"
      ],
      "metadata": {
        "id": "sg8b0lua_oWk"
      },
      "execution_count": 17,
      "outputs": []
    },
    {
      "cell_type": "markdown",
      "source": [
        "#### pyCuBool (GPU)"
      ],
      "metadata": {
        "id": "orO-5MDW_p-o"
      }
    },
    {
      "cell_type": "code",
      "source": [
        "import pycubool as cb\n",
        "\n",
        "from networkx import MultiDiGraph\n",
        "from pyformlang.cfg import CFG\n",
        "from project.grammar_tools import get_cnf_from_cfg\n",
        "\n",
        "def matrix_cb(cfg: CFG, graph: MultiDiGraph) -> set:\n",
        "    n = graph.number_of_nodes()\n",
        "    if n == 0:\n",
        "        return set()\n",
        "\n",
        "    result = {}\n",
        "    term_prods = set()\n",
        "    nonterm_prods = set()\n",
        "\n",
        "    if cfg.generate_epsilon():\n",
        "        m = cb.Matrix.empty(shape=(n, n))\n",
        "        for i in range(n):\n",
        "            m[i, i] = True\n",
        "        result[cfg.start_symbol.value] = m\n",
        "\n",
        "    cfg = cfg_to_normal_form(cfg)\n",
        "\n",
        "    for prod in cfg.productions:\n",
        "        if len(prod.body) == 1:\n",
        "            term_prods.add(prod)\n",
        "        elif len(prod.body) == 2:\n",
        "            nonterm_prods.add(prod)\n",
        "\n",
        "    for u, v, edge_data in graph.edges(data=True):\n",
        "        for prod in term_prods:\n",
        "            if prod.body[0].value == edge_data[\"label\"]:\n",
        "                m = result.get(prod.head.value, cb.Matrix.empty(shape=(n, n)))\n",
        "                m[u, v] = True\n",
        "                result[prod.head.value] = m\n",
        "\n",
        "    changing = True\n",
        "    while changing:\n",
        "        changing = False\n",
        "        for p in nonterm_prods:\n",
        "            m = result.get(p.head.value, cb.Matrix.empty(shape=(n, n)))\n",
        "            old_nnz = set(m.to_list())\n",
        "            m = m.ewiseadd(result.get(p.body[0].value, cb.Matrix.empty(shape=(n, n))).mxm(\n",
        "                    result.get(p.body[1].value, cb.Matrix.empty(shape=(n, n)))\n",
        "                )\n",
        "            )\n",
        "            new_nnz = set(m.to_list())\n",
        "            result[p.head.value] = m\n",
        "            changing = max(changing, old_nnz != new_nnz)\n",
        "\n",
        "    return {\n",
        "        (u, variable, v)\n",
        "        for variable, matrix in result.items()\n",
        "        for u, v in matrix.to_list()\n",
        "    }\n"
      ],
      "metadata": {
        "id": "y68xrWhI_6a4"
      },
      "execution_count": null,
      "outputs": []
    },
    {
      "cell_type": "markdown",
      "source": [
        "### Окружение\n",
        "\n",
        "Вспомогательные функции эксперимента."
      ],
      "metadata": {
        "id": "CMHGglPcnX9z"
      }
    },
    {
      "cell_type": "code",
      "source": [
        "import csv\n",
        "import signal\n",
        "import time\n",
        "\n",
        "from tqdm import tqdm"
      ],
      "metadata": {
        "id": "J8NqMBdH3-cH"
      },
      "execution_count": 18,
      "outputs": []
    },
    {
      "cell_type": "code",
      "source": [
        "def write_measurements(path, rows):\n",
        "  fieldnames = ['Query', 'CFPQ_size', 'Time(s)']\n",
        "\n",
        "  with open(path, 'w', encoding='UTF8', newline='') as f:\n",
        "    writer = csv.DictWriter(f, fieldnames=fieldnames)\n",
        "    writer.writeheader()\n",
        "    writer.writerows(rows)"
      ],
      "metadata": {
        "id": "mk_3N9Kv5iyS"
      },
      "execution_count": 19,
      "outputs": []
    },
    {
      "cell_type": "code",
      "source": [
        "def signal_handler(signum, frame):\n",
        "    raise Exception(\"Timed out!\")\n",
        "\n",
        "signal.signal(signal.SIGALRM, signal_handler)"
      ],
      "metadata": {
        "colab": {
          "base_uri": "https://localhost:8080/"
        },
        "id": "mZYmwSE15rQ3",
        "outputId": "064ebcff-77aa-4417-f44e-5b69960522d9"
      },
      "execution_count": 20,
      "outputs": [
        {
          "output_type": "execute_result",
          "data": {
            "text/plain": [
              "<Handlers.SIG_DFL: 0>"
            ]
          },
          "metadata": {},
          "execution_count": 20
        }
      ]
    },
    {
      "cell_type": "code",
      "source": [
        "def measure_cfpq_time(graph, queries, fabm, num_runs, timeouts=None):\n",
        "    rows = []\n",
        "\n",
        "    for _ in range(num_runs):\n",
        "      for i, query in enumerate(queries):\n",
        "        cfpq_ans = start_time = end_time = None\n",
        "\n",
        "        if timeouts:\n",
        "            signal.alarm(int(timeouts[i] + 1))\n",
        "\n",
        "        try:\n",
        "            start_time = time.time()\n",
        "            if fabm == 'cfpq_hellings':\n",
        "              cfpq_ans = hellings_context_free_path_querying(graph, query)\n",
        "            elif fabm == 'cfpq_matrix':\n",
        "              cfpq_ans = matrix_context_free_path_querying(graph, query)\n",
        "            elif fabm == 'cfpq_tensor':\n",
        "              cfpq_ans = tensor_context_free_path_querying(graph, query)\n",
        "            elif fabm == 'cfpq_matrix_cb':\n",
        "              cfpq_ans = cb_matrix_context_free_path_querying(graph, query)\n",
        "            elif fabm == 'cfpq_tensor_cb':\n",
        "              cfpq_ans = cb_tensor_context_free_path_querying(graph, query)\n",
        "            end_time = time.time()\n",
        "        except Exception:\n",
        "            end_time = time.time()\n",
        "\n",
        "        rows.append({\n",
        "            'Time(s)': end_time - start_time, \n",
        "            'CFPQ_size': len(cfpq_ans) if cfpq_ans else 'NaN', \n",
        "            'Query': i\n",
        "            })\n",
        "        \n",
        "    return rows"
      ],
      "metadata": {
        "id": "0qEaoZde6gsB"
      },
      "execution_count": 21,
      "outputs": []
    },
    {
      "cell_type": "code",
      "source": [
        "def measure_algs_performance(graphs, num_runs, algos, timeouts=None):\n",
        "  for algo_name, algo, path in algos:\n",
        "    print(f'Measuring performance of algorithm {algo} based on {algo_name} ...')\n",
        "\n",
        "    for graph_name, graph in tqdm(graphs.items()):\n",
        "      edge_labels = list(graph.description.edge_labels)\n",
        "\n",
        "      measurements = measure_cfpq_time(\n",
        "          graph.graph, \n",
        "          create_queries(graph.graph, edge_labels), \n",
        "          algo, \n",
        "          num_runs=num_runs,\n",
        "          timeouts=timeouts\n",
        "          )\n",
        "      \n",
        "      write_measurements(f'{path}/{graph_name}.csv', measurements)"
      ],
      "metadata": {
        "id": "iBDacWom65ck"
      },
      "execution_count": 22,
      "outputs": []
    },
    {
      "cell_type": "code",
      "source": [
        "def create_df(graph_names, algos):\n",
        "  dfs = []\n",
        "\n",
        "  for algo_name, algo, path in algos:\n",
        "    for graph_name in graph_names:\n",
        "      df = pd.read_csv(f'{path}/{graph_name}.csv')\n",
        "      df.insert(0, 'Algorithm', algo_name + '_' + algo)\n",
        "      df.insert(0, 'Graph', graph_name)\n",
        "      dfs.append(df)\n",
        "\n",
        "  return pd.concat(dfs, ignore_index=True)"
      ],
      "metadata": {
        "id": "i8BEeMyF9mr4"
      },
      "execution_count": 23,
      "outputs": []
    },
    {
      "cell_type": "code",
      "source": [
        "def show_barplots(df, title):\n",
        "  fig, axes = plt.subplots(7, 2, figsize=(18, 40))\n",
        "  fig.subplots_adjust(left=0.05, bottom=0.1, right=0.9, top=0.9, wspace=0.2, hspace=0.5)\n",
        "  fig.suptitle(title, fontsize=25)\n",
        "  fig.delaxes(axes[6, 1])\n",
        "\n",
        "  for i, name in enumerate(small_graph_names):\n",
        "    sns.barplot(ax=axes[i // 2, i % 2], x=\"Query\", y=\"Time(s)\", hue='Algorithm', data=df[df['Graph'] == name]).set_title(name)\n",
        "\n",
        "  plt.show();"
      ],
      "metadata": {
        "id": "QL-yWITh9n2z"
      },
      "execution_count": 24,
      "outputs": []
    },
    {
      "cell_type": "markdown",
      "source": [
        "## Проведение эксперимента"
      ],
      "metadata": {
        "id": "mqxmgcud9rj4"
      }
    },
    {
      "cell_type": "code",
      "source": [
        "scipy_algos = [\n",
        "      ('scipy', 'cfpq_hellings', 'benchmark/scipy_cfpq_hellings'),\n",
        "      ('scipy', 'cfpq_matrix', 'benchmark/scipy_cfpq_matrix'),\n",
        "      ('scipy', 'cfpq_tensor', 'benchmark/scipy_cfpq_tensor'),\n",
        "]"
      ],
      "metadata": {
        "id": "iqykRFJw-E_c"
      },
      "execution_count": 25,
      "outputs": []
    },
    {
      "cell_type": "code",
      "source": [
        "measure_algs_performance(small_graphs, num_runs=10, algos=scipy_algos)"
      ],
      "metadata": {
        "colab": {
          "base_uri": "https://localhost:8080/",
          "height": 430
        },
        "id": "NLF1TttX-HZj",
        "outputId": "a2df8f87-e54c-4e6f-d67e-b434d7f58af5"
      },
      "execution_count": 26,
      "outputs": [
        {
          "output_type": "stream",
          "name": "stdout",
          "text": [
            "Measuring performance of algorithm cfpq_hellings based on scipy ...\n"
          ]
        },
        {
          "output_type": "stream",
          "name": "stderr",
          "text": [
            "100%|██████████| 13/13 [14:57<00:00, 69.07s/it]\n"
          ]
        },
        {
          "output_type": "stream",
          "name": "stdout",
          "text": [
            "Measuring performance of algorithm cfpq_matrix based on scipy ...\n"
          ]
        },
        {
          "output_type": "stream",
          "name": "stderr",
          "text": [
            "100%|██████████| 13/13 [00:40<00:00,  3.12s/it]\n"
          ]
        },
        {
          "output_type": "stream",
          "name": "stdout",
          "text": [
            "Measuring performance of algorithm cfpq_tensor based on scipy ...\n"
          ]
        },
        {
          "output_type": "stream",
          "name": "stderr",
          "text": [
            " 31%|███       | 4/13 [41:22<1:33:05, 620.56s/it]\n"
          ]
        },
        {
          "output_type": "error",
          "ename": "KeyboardInterrupt",
          "evalue": "ignored",
          "traceback": [
            "\u001b[0;31m---------------------------------------------------------------------------\u001b[0m",
            "\u001b[0;31mKeyboardInterrupt\u001b[0m                         Traceback (most recent call last)",
            "\u001b[0;32m<ipython-input-26-a6d0a4b925d9>\u001b[0m in \u001b[0;36m<module>\u001b[0;34m()\u001b[0m\n\u001b[0;32m----> 1\u001b[0;31m \u001b[0mmeasure_algs_performance\u001b[0m\u001b[0;34m(\u001b[0m\u001b[0msmall_graphs\u001b[0m\u001b[0;34m,\u001b[0m \u001b[0mnum_runs\u001b[0m\u001b[0;34m=\u001b[0m\u001b[0;36m10\u001b[0m\u001b[0;34m,\u001b[0m \u001b[0malgos\u001b[0m\u001b[0;34m=\u001b[0m\u001b[0mscipy_algos\u001b[0m\u001b[0;34m)\u001b[0m\u001b[0;34m\u001b[0m\u001b[0;34m\u001b[0m\u001b[0m\n\u001b[0m",
            "\u001b[0;32m<ipython-input-22-ee442f806bb3>\u001b[0m in \u001b[0;36mmeasure_algs_performance\u001b[0;34m(graphs, num_runs, algos, timeouts)\u001b[0m\n\u001b[1;32m     11\u001b[0m           \u001b[0malgo\u001b[0m\u001b[0;34m,\u001b[0m\u001b[0;34m\u001b[0m\u001b[0;34m\u001b[0m\u001b[0m\n\u001b[1;32m     12\u001b[0m           \u001b[0mnum_runs\u001b[0m\u001b[0;34m=\u001b[0m\u001b[0mnum_runs\u001b[0m\u001b[0;34m,\u001b[0m\u001b[0;34m\u001b[0m\u001b[0;34m\u001b[0m\u001b[0m\n\u001b[0;32m---> 13\u001b[0;31m           \u001b[0mtimeouts\u001b[0m\u001b[0;34m=\u001b[0m\u001b[0mtimeouts\u001b[0m\u001b[0;34m\u001b[0m\u001b[0;34m\u001b[0m\u001b[0m\n\u001b[0m\u001b[1;32m     14\u001b[0m           )\n\u001b[1;32m     15\u001b[0m \u001b[0;34m\u001b[0m\u001b[0m\n",
            "\u001b[0;32m<ipython-input-21-915ae5b307a3>\u001b[0m in \u001b[0;36mmeasure_cfpq_time\u001b[0;34m(graph, queries, fabm, num_runs, timeouts)\u001b[0m\n\u001b[1;32m     16\u001b[0m               \u001b[0mcfpq_ans\u001b[0m \u001b[0;34m=\u001b[0m \u001b[0mmatrix_context_free_path_querying\u001b[0m\u001b[0;34m(\u001b[0m\u001b[0mgraph\u001b[0m\u001b[0;34m,\u001b[0m \u001b[0mquery\u001b[0m\u001b[0;34m)\u001b[0m\u001b[0;34m\u001b[0m\u001b[0;34m\u001b[0m\u001b[0m\n\u001b[1;32m     17\u001b[0m             \u001b[0;32melif\u001b[0m \u001b[0mfabm\u001b[0m \u001b[0;34m==\u001b[0m \u001b[0;34m'cfpq_tensor'\u001b[0m\u001b[0;34m:\u001b[0m\u001b[0;34m\u001b[0m\u001b[0;34m\u001b[0m\u001b[0m\n\u001b[0;32m---> 18\u001b[0;31m               \u001b[0mcfpq_ans\u001b[0m \u001b[0;34m=\u001b[0m \u001b[0mtensor_context_free_path_querying\u001b[0m\u001b[0;34m(\u001b[0m\u001b[0mgraph\u001b[0m\u001b[0;34m,\u001b[0m \u001b[0mquery\u001b[0m\u001b[0;34m)\u001b[0m\u001b[0;34m\u001b[0m\u001b[0;34m\u001b[0m\u001b[0m\n\u001b[0m\u001b[1;32m     19\u001b[0m             \u001b[0;32melif\u001b[0m \u001b[0mfabm\u001b[0m \u001b[0;34m==\u001b[0m \u001b[0;34m'cfpq_matrix_cb'\u001b[0m\u001b[0;34m:\u001b[0m\u001b[0;34m\u001b[0m\u001b[0;34m\u001b[0m\u001b[0m\n\u001b[1;32m     20\u001b[0m               \u001b[0mcfpq_ans\u001b[0m \u001b[0;34m=\u001b[0m \u001b[0mcb_matrix_context_free_path_querying\u001b[0m\u001b[0;34m(\u001b[0m\u001b[0mgraph\u001b[0m\u001b[0;34m,\u001b[0m \u001b[0mquery\u001b[0m\u001b[0;34m)\u001b[0m\u001b[0;34m\u001b[0m\u001b[0;34m\u001b[0m\u001b[0m\n",
            "\u001b[0;32m/content/formal-lang-course/project/path_querying_tools.py\u001b[0m in \u001b[0;36mtensor_context_free_path_querying\u001b[0;34m(graph, cfg, start_symbol, start_node_nums, final_node_nums)\u001b[0m\n\u001b[1;32m    308\u001b[0m         \u001b[0mstart_node_nums\u001b[0m\u001b[0;34m,\u001b[0m\u001b[0;34m\u001b[0m\u001b[0;34m\u001b[0m\u001b[0m\n\u001b[1;32m    309\u001b[0m         \u001b[0mfinal_node_nums\u001b[0m\u001b[0;34m,\u001b[0m\u001b[0;34m\u001b[0m\u001b[0;34m\u001b[0m\u001b[0m\n\u001b[0;32m--> 310\u001b[0;31m         \u001b[0malgorithm\u001b[0m\u001b[0;34m=\u001b[0m\u001b[0mgrammar_tools\u001b[0m\u001b[0;34m.\u001b[0m\u001b[0mtensor_cfpq\u001b[0m\u001b[0;34m,\u001b[0m\u001b[0;34m\u001b[0m\u001b[0;34m\u001b[0m\u001b[0m\n\u001b[0m\u001b[1;32m    311\u001b[0m     )\n",
            "\u001b[0;32m/content/formal-lang-course/project/path_querying_tools.py\u001b[0m in \u001b[0;36m_context_free_path_querying\u001b[0;34m(graph, cfg, start_symbol, start_node_nums, final_node_nums, algorithm)\u001b[0m\n\u001b[1;32m    165\u001b[0m     reachable_node_nums = {\n\u001b[1;32m    166\u001b[0m         \u001b[0;34m(\u001b[0m\u001b[0mnode_num_l\u001b[0m\u001b[0;34m,\u001b[0m \u001b[0mnode_num_r\u001b[0m\u001b[0;34m)\u001b[0m\u001b[0;34m\u001b[0m\u001b[0;34m\u001b[0m\u001b[0m\n\u001b[0;32m--> 167\u001b[0;31m         \u001b[0;32mfor\u001b[0m \u001b[0mnode_num_l\u001b[0m\u001b[0;34m,\u001b[0m \u001b[0mhead\u001b[0m\u001b[0;34m,\u001b[0m \u001b[0mnode_num_r\u001b[0m \u001b[0;32min\u001b[0m \u001b[0malgorithm\u001b[0m\u001b[0;34m(\u001b[0m\u001b[0mgraph\u001b[0m\u001b[0;34m,\u001b[0m \u001b[0mcfg\u001b[0m\u001b[0;34m)\u001b[0m\u001b[0;34m\u001b[0m\u001b[0;34m\u001b[0m\u001b[0m\n\u001b[0m\u001b[1;32m    168\u001b[0m         \u001b[0;32mif\u001b[0m \u001b[0mhead\u001b[0m \u001b[0;34m==\u001b[0m \u001b[0mcfg\u001b[0m\u001b[0;34m.\u001b[0m\u001b[0mstart_symbol\u001b[0m\u001b[0;34m\u001b[0m\u001b[0;34m\u001b[0m\u001b[0m\n\u001b[1;32m    169\u001b[0m     }\n",
            "\u001b[0;32m/content/formal-lang-course/project/grammar_tools.py\u001b[0m in \u001b[0;36mtensor_cfpq\u001b[0;34m(graph, cfg)\u001b[0m\n\u001b[1;32m    938\u001b[0m         \u001b[0mchanging\u001b[0m \u001b[0;34m=\u001b[0m \u001b[0;32mFalse\u001b[0m\u001b[0;34m\u001b[0m\u001b[0;34m\u001b[0m\u001b[0m\n\u001b[1;32m    939\u001b[0m \u001b[0;34m\u001b[0m\u001b[0m\n\u001b[0;32m--> 940\u001b[0;31m         \u001b[0mtransitive_closure\u001b[0m \u001b[0;34m=\u001b[0m \u001b[0mba\u001b[0m\u001b[0;34m.\u001b[0m\u001b[0mintersect\u001b[0m\u001b[0;34m(\u001b[0m\u001b[0mboolean_adjacencies\u001b[0m\u001b[0;34m)\u001b[0m\u001b[0;34m.\u001b[0m\u001b[0mget_transitive_closure\u001b[0m\u001b[0;34m(\u001b[0m\u001b[0;34m)\u001b[0m\u001b[0;34m\u001b[0m\u001b[0;34m\u001b[0m\u001b[0m\n\u001b[0m\u001b[1;32m    941\u001b[0m         \u001b[0mx\u001b[0m\u001b[0;34m,\u001b[0m \u001b[0my\u001b[0m \u001b[0;34m=\u001b[0m \u001b[0mtransitive_closure\u001b[0m\u001b[0;34m.\u001b[0m\u001b[0mnonzero\u001b[0m\u001b[0;34m(\u001b[0m\u001b[0;34m)\u001b[0m\u001b[0;34m\u001b[0m\u001b[0;34m\u001b[0m\u001b[0m\n\u001b[1;32m    942\u001b[0m \u001b[0;34m\u001b[0m\u001b[0m\n",
            "\u001b[0;32m/content/formal-lang-course/project/matrix_tools.py\u001b[0m in \u001b[0;36mget_transitive_closure\u001b[0;34m(self)\u001b[0m\n\u001b[1;32m    180\u001b[0m                 sum(\n\u001b[1;32m    181\u001b[0m                     \u001b[0mboolean_adjacency\u001b[0m\u001b[0;34m\u001b[0m\u001b[0;34m\u001b[0m\u001b[0m\n\u001b[0;32m--> 182\u001b[0;31m                     \u001b[0;32mfor\u001b[0m \u001b[0mboolean_adjacency\u001b[0m \u001b[0;32min\u001b[0m \u001b[0mself\u001b[0m\u001b[0;34m.\u001b[0m\u001b[0mboolean_adjacencies\u001b[0m\u001b[0;34m.\u001b[0m\u001b[0mvalues\u001b[0m\u001b[0;34m(\u001b[0m\u001b[0;34m)\u001b[0m\u001b[0;34m\u001b[0m\u001b[0;34m\u001b[0m\u001b[0m\n\u001b[0m\u001b[1;32m    183\u001b[0m                 ),\n\u001b[1;32m    184\u001b[0m                 \u001b[0mdtype\u001b[0m\u001b[0;34m=\u001b[0m\u001b[0mbool\u001b[0m\u001b[0;34m,\u001b[0m\u001b[0;34m\u001b[0m\u001b[0;34m\u001b[0m\u001b[0m\n",
            "\u001b[0;32m/usr/local/lib/python3.7/dist-packages/scipy/sparse/dok.py\u001b[0m in \u001b[0;36m__radd__\u001b[0;34m(self, other)\u001b[0m\n\u001b[1;32m    282\u001b[0m             \u001b[0mM\u001b[0m\u001b[0;34m,\u001b[0m \u001b[0mN\u001b[0m \u001b[0;34m=\u001b[0m \u001b[0mself\u001b[0m\u001b[0;34m.\u001b[0m\u001b[0mshape\u001b[0m\u001b[0;34m\u001b[0m\u001b[0;34m\u001b[0m\u001b[0m\n\u001b[1;32m    283\u001b[0m             \u001b[0;32mfor\u001b[0m \u001b[0mkey\u001b[0m \u001b[0;32min\u001b[0m \u001b[0mitertools\u001b[0m\u001b[0;34m.\u001b[0m\u001b[0mproduct\u001b[0m\u001b[0;34m(\u001b[0m\u001b[0mxrange\u001b[0m\u001b[0;34m(\u001b[0m\u001b[0mM\u001b[0m\u001b[0;34m)\u001b[0m\u001b[0;34m,\u001b[0m \u001b[0mxrange\u001b[0m\u001b[0;34m(\u001b[0m\u001b[0mN\u001b[0m\u001b[0;34m)\u001b[0m\u001b[0;34m)\u001b[0m\u001b[0;34m:\u001b[0m\u001b[0;34m\u001b[0m\u001b[0;34m\u001b[0m\u001b[0m\n\u001b[0;32m--> 284\u001b[0;31m                 \u001b[0maij\u001b[0m \u001b[0;34m=\u001b[0m \u001b[0mdict\u001b[0m\u001b[0;34m.\u001b[0m\u001b[0mget\u001b[0m\u001b[0;34m(\u001b[0m\u001b[0mself\u001b[0m\u001b[0;34m,\u001b[0m \u001b[0;34m(\u001b[0m\u001b[0mkey\u001b[0m\u001b[0;34m)\u001b[0m\u001b[0;34m,\u001b[0m \u001b[0;36m0\u001b[0m\u001b[0;34m)\u001b[0m \u001b[0;34m+\u001b[0m \u001b[0mother\u001b[0m\u001b[0;34m\u001b[0m\u001b[0;34m\u001b[0m\u001b[0m\n\u001b[0m\u001b[1;32m    285\u001b[0m                 \u001b[0;32mif\u001b[0m \u001b[0maij\u001b[0m\u001b[0;34m:\u001b[0m\u001b[0;34m\u001b[0m\u001b[0;34m\u001b[0m\u001b[0m\n\u001b[1;32m    286\u001b[0m                     \u001b[0mnew\u001b[0m\u001b[0;34m[\u001b[0m\u001b[0mkey\u001b[0m\u001b[0;34m]\u001b[0m \u001b[0;34m=\u001b[0m \u001b[0maij\u001b[0m\u001b[0;34m\u001b[0m\u001b[0;34m\u001b[0m\u001b[0m\n",
            "\u001b[0;31mKeyboardInterrupt\u001b[0m: "
          ]
        }
      ]
    },
    {
      "cell_type": "code",
      "source": [
        "df_sm_scipy = pd.merge(create_df(small_graph_names, scipy_algos), graph_description, right_index=True, left_on='Graph')\n",
        "show_barplots(df_sm_scipy, 'Производительность алгоритмов с scipy на небольших графах')"
      ],
      "metadata": {
        "colab": {
          "base_uri": "https://localhost:8080/",
          "height": 412
        },
        "id": "2Uq21m7z-J7z",
        "outputId": "83ee6be2-f156-4b87-b400-07cbb302cd76"
      },
      "execution_count": 28,
      "outputs": [
        {
          "output_type": "error",
          "ename": "FileNotFoundError",
          "evalue": "ignored",
          "traceback": [
            "\u001b[0;31m---------------------------------------------------------------------------\u001b[0m",
            "\u001b[0;31mFileNotFoundError\u001b[0m                         Traceback (most recent call last)",
            "\u001b[0;32m<ipython-input-28-005db3eab795>\u001b[0m in \u001b[0;36m<module>\u001b[0;34m()\u001b[0m\n\u001b[0;32m----> 1\u001b[0;31m \u001b[0mdf_sm_scipy\u001b[0m \u001b[0;34m=\u001b[0m \u001b[0mpd\u001b[0m\u001b[0;34m.\u001b[0m\u001b[0mmerge\u001b[0m\u001b[0;34m(\u001b[0m\u001b[0mcreate_df\u001b[0m\u001b[0;34m(\u001b[0m\u001b[0msmall_graph_names\u001b[0m\u001b[0;34m,\u001b[0m \u001b[0mscipy_algos\u001b[0m\u001b[0;34m)\u001b[0m\u001b[0;34m,\u001b[0m \u001b[0mgraph_description\u001b[0m\u001b[0;34m,\u001b[0m \u001b[0mright_index\u001b[0m\u001b[0;34m=\u001b[0m\u001b[0;32mTrue\u001b[0m\u001b[0;34m,\u001b[0m \u001b[0mleft_on\u001b[0m\u001b[0;34m=\u001b[0m\u001b[0;34m'Graph'\u001b[0m\u001b[0;34m)\u001b[0m\u001b[0;34m\u001b[0m\u001b[0;34m\u001b[0m\u001b[0m\n\u001b[0m\u001b[1;32m      2\u001b[0m \u001b[0mshow_barplots\u001b[0m\u001b[0;34m(\u001b[0m\u001b[0mdf_sm_scipy\u001b[0m\u001b[0;34m,\u001b[0m \u001b[0;34m'Производительность алгоритмов с scipy на небольших графах'\u001b[0m\u001b[0;34m)\u001b[0m\u001b[0;34m\u001b[0m\u001b[0;34m\u001b[0m\u001b[0m\n",
            "\u001b[0;32m<ipython-input-23-d5528ccde6b3>\u001b[0m in \u001b[0;36mcreate_df\u001b[0;34m(graph_names, algos)\u001b[0m\n\u001b[1;32m      4\u001b[0m   \u001b[0;32mfor\u001b[0m \u001b[0malgo_name\u001b[0m\u001b[0;34m,\u001b[0m \u001b[0malgo\u001b[0m\u001b[0;34m,\u001b[0m \u001b[0mpath\u001b[0m \u001b[0;32min\u001b[0m \u001b[0malgos\u001b[0m\u001b[0;34m:\u001b[0m\u001b[0;34m\u001b[0m\u001b[0;34m\u001b[0m\u001b[0m\n\u001b[1;32m      5\u001b[0m     \u001b[0;32mfor\u001b[0m \u001b[0mgraph_name\u001b[0m \u001b[0;32min\u001b[0m \u001b[0mgraph_names\u001b[0m\u001b[0;34m:\u001b[0m\u001b[0;34m\u001b[0m\u001b[0;34m\u001b[0m\u001b[0m\n\u001b[0;32m----> 6\u001b[0;31m       \u001b[0mdf\u001b[0m \u001b[0;34m=\u001b[0m \u001b[0mpd\u001b[0m\u001b[0;34m.\u001b[0m\u001b[0mread_csv\u001b[0m\u001b[0;34m(\u001b[0m\u001b[0;34mf'{path}/{graph_name}.csv'\u001b[0m\u001b[0;34m)\u001b[0m\u001b[0;34m\u001b[0m\u001b[0;34m\u001b[0m\u001b[0m\n\u001b[0m\u001b[1;32m      7\u001b[0m       \u001b[0mdf\u001b[0m\u001b[0;34m.\u001b[0m\u001b[0minsert\u001b[0m\u001b[0;34m(\u001b[0m\u001b[0;36m0\u001b[0m\u001b[0;34m,\u001b[0m \u001b[0;34m'Algorithm'\u001b[0m\u001b[0;34m,\u001b[0m \u001b[0malgo_name\u001b[0m \u001b[0;34m+\u001b[0m \u001b[0;34m'_'\u001b[0m \u001b[0;34m+\u001b[0m \u001b[0malgo\u001b[0m\u001b[0;34m)\u001b[0m\u001b[0;34m\u001b[0m\u001b[0;34m\u001b[0m\u001b[0m\n\u001b[1;32m      8\u001b[0m       \u001b[0mdf\u001b[0m\u001b[0;34m.\u001b[0m\u001b[0minsert\u001b[0m\u001b[0;34m(\u001b[0m\u001b[0;36m0\u001b[0m\u001b[0;34m,\u001b[0m \u001b[0;34m'Graph'\u001b[0m\u001b[0;34m,\u001b[0m \u001b[0mgraph_name\u001b[0m\u001b[0;34m)\u001b[0m\u001b[0;34m\u001b[0m\u001b[0;34m\u001b[0m\u001b[0m\n",
            "\u001b[0;32m/usr/local/lib/python3.7/dist-packages/pandas/io/parsers.py\u001b[0m in \u001b[0;36mread_csv\u001b[0;34m(filepath_or_buffer, sep, delimiter, header, names, index_col, usecols, squeeze, prefix, mangle_dupe_cols, dtype, engine, converters, true_values, false_values, skipinitialspace, skiprows, skipfooter, nrows, na_values, keep_default_na, na_filter, verbose, skip_blank_lines, parse_dates, infer_datetime_format, keep_date_col, date_parser, dayfirst, cache_dates, iterator, chunksize, compression, thousands, decimal, lineterminator, quotechar, quoting, doublequote, escapechar, comment, encoding, dialect, error_bad_lines, warn_bad_lines, delim_whitespace, low_memory, memory_map, float_precision)\u001b[0m\n\u001b[1;32m    686\u001b[0m     )\n\u001b[1;32m    687\u001b[0m \u001b[0;34m\u001b[0m\u001b[0m\n\u001b[0;32m--> 688\u001b[0;31m     \u001b[0;32mreturn\u001b[0m \u001b[0m_read\u001b[0m\u001b[0;34m(\u001b[0m\u001b[0mfilepath_or_buffer\u001b[0m\u001b[0;34m,\u001b[0m \u001b[0mkwds\u001b[0m\u001b[0;34m)\u001b[0m\u001b[0;34m\u001b[0m\u001b[0;34m\u001b[0m\u001b[0m\n\u001b[0m\u001b[1;32m    689\u001b[0m \u001b[0;34m\u001b[0m\u001b[0m\n\u001b[1;32m    690\u001b[0m \u001b[0;34m\u001b[0m\u001b[0m\n",
            "\u001b[0;32m/usr/local/lib/python3.7/dist-packages/pandas/io/parsers.py\u001b[0m in \u001b[0;36m_read\u001b[0;34m(filepath_or_buffer, kwds)\u001b[0m\n\u001b[1;32m    452\u001b[0m \u001b[0;34m\u001b[0m\u001b[0m\n\u001b[1;32m    453\u001b[0m     \u001b[0;31m# Create the parser.\u001b[0m\u001b[0;34m\u001b[0m\u001b[0;34m\u001b[0m\u001b[0;34m\u001b[0m\u001b[0m\n\u001b[0;32m--> 454\u001b[0;31m     \u001b[0mparser\u001b[0m \u001b[0;34m=\u001b[0m \u001b[0mTextFileReader\u001b[0m\u001b[0;34m(\u001b[0m\u001b[0mfp_or_buf\u001b[0m\u001b[0;34m,\u001b[0m \u001b[0;34m**\u001b[0m\u001b[0mkwds\u001b[0m\u001b[0;34m)\u001b[0m\u001b[0;34m\u001b[0m\u001b[0;34m\u001b[0m\u001b[0m\n\u001b[0m\u001b[1;32m    455\u001b[0m \u001b[0;34m\u001b[0m\u001b[0m\n\u001b[1;32m    456\u001b[0m     \u001b[0;32mif\u001b[0m \u001b[0mchunksize\u001b[0m \u001b[0;32mor\u001b[0m \u001b[0miterator\u001b[0m\u001b[0;34m:\u001b[0m\u001b[0;34m\u001b[0m\u001b[0;34m\u001b[0m\u001b[0m\n",
            "\u001b[0;32m/usr/local/lib/python3.7/dist-packages/pandas/io/parsers.py\u001b[0m in \u001b[0;36m__init__\u001b[0;34m(self, f, engine, **kwds)\u001b[0m\n\u001b[1;32m    946\u001b[0m             \u001b[0mself\u001b[0m\u001b[0;34m.\u001b[0m\u001b[0moptions\u001b[0m\u001b[0;34m[\u001b[0m\u001b[0;34m\"has_index_names\"\u001b[0m\u001b[0;34m]\u001b[0m \u001b[0;34m=\u001b[0m \u001b[0mkwds\u001b[0m\u001b[0;34m[\u001b[0m\u001b[0;34m\"has_index_names\"\u001b[0m\u001b[0;34m]\u001b[0m\u001b[0;34m\u001b[0m\u001b[0;34m\u001b[0m\u001b[0m\n\u001b[1;32m    947\u001b[0m \u001b[0;34m\u001b[0m\u001b[0m\n\u001b[0;32m--> 948\u001b[0;31m         \u001b[0mself\u001b[0m\u001b[0;34m.\u001b[0m\u001b[0m_make_engine\u001b[0m\u001b[0;34m(\u001b[0m\u001b[0mself\u001b[0m\u001b[0;34m.\u001b[0m\u001b[0mengine\u001b[0m\u001b[0;34m)\u001b[0m\u001b[0;34m\u001b[0m\u001b[0;34m\u001b[0m\u001b[0m\n\u001b[0m\u001b[1;32m    949\u001b[0m \u001b[0;34m\u001b[0m\u001b[0m\n\u001b[1;32m    950\u001b[0m     \u001b[0;32mdef\u001b[0m \u001b[0mclose\u001b[0m\u001b[0;34m(\u001b[0m\u001b[0mself\u001b[0m\u001b[0;34m)\u001b[0m\u001b[0;34m:\u001b[0m\u001b[0;34m\u001b[0m\u001b[0;34m\u001b[0m\u001b[0m\n",
            "\u001b[0;32m/usr/local/lib/python3.7/dist-packages/pandas/io/parsers.py\u001b[0m in \u001b[0;36m_make_engine\u001b[0;34m(self, engine)\u001b[0m\n\u001b[1;32m   1178\u001b[0m     \u001b[0;32mdef\u001b[0m \u001b[0m_make_engine\u001b[0m\u001b[0;34m(\u001b[0m\u001b[0mself\u001b[0m\u001b[0;34m,\u001b[0m \u001b[0mengine\u001b[0m\u001b[0;34m=\u001b[0m\u001b[0;34m\"c\"\u001b[0m\u001b[0;34m)\u001b[0m\u001b[0;34m:\u001b[0m\u001b[0;34m\u001b[0m\u001b[0;34m\u001b[0m\u001b[0m\n\u001b[1;32m   1179\u001b[0m         \u001b[0;32mif\u001b[0m \u001b[0mengine\u001b[0m \u001b[0;34m==\u001b[0m \u001b[0;34m\"c\"\u001b[0m\u001b[0;34m:\u001b[0m\u001b[0;34m\u001b[0m\u001b[0;34m\u001b[0m\u001b[0m\n\u001b[0;32m-> 1180\u001b[0;31m             \u001b[0mself\u001b[0m\u001b[0;34m.\u001b[0m\u001b[0m_engine\u001b[0m \u001b[0;34m=\u001b[0m \u001b[0mCParserWrapper\u001b[0m\u001b[0;34m(\u001b[0m\u001b[0mself\u001b[0m\u001b[0;34m.\u001b[0m\u001b[0mf\u001b[0m\u001b[0;34m,\u001b[0m \u001b[0;34m**\u001b[0m\u001b[0mself\u001b[0m\u001b[0;34m.\u001b[0m\u001b[0moptions\u001b[0m\u001b[0;34m)\u001b[0m\u001b[0;34m\u001b[0m\u001b[0;34m\u001b[0m\u001b[0m\n\u001b[0m\u001b[1;32m   1181\u001b[0m         \u001b[0;32melse\u001b[0m\u001b[0;34m:\u001b[0m\u001b[0;34m\u001b[0m\u001b[0;34m\u001b[0m\u001b[0m\n\u001b[1;32m   1182\u001b[0m             \u001b[0;32mif\u001b[0m \u001b[0mengine\u001b[0m \u001b[0;34m==\u001b[0m \u001b[0;34m\"python\"\u001b[0m\u001b[0;34m:\u001b[0m\u001b[0;34m\u001b[0m\u001b[0;34m\u001b[0m\u001b[0m\n",
            "\u001b[0;32m/usr/local/lib/python3.7/dist-packages/pandas/io/parsers.py\u001b[0m in \u001b[0;36m__init__\u001b[0;34m(self, src, **kwds)\u001b[0m\n\u001b[1;32m   2008\u001b[0m         \u001b[0mkwds\u001b[0m\u001b[0;34m[\u001b[0m\u001b[0;34m\"usecols\"\u001b[0m\u001b[0;34m]\u001b[0m \u001b[0;34m=\u001b[0m \u001b[0mself\u001b[0m\u001b[0;34m.\u001b[0m\u001b[0musecols\u001b[0m\u001b[0;34m\u001b[0m\u001b[0;34m\u001b[0m\u001b[0m\n\u001b[1;32m   2009\u001b[0m \u001b[0;34m\u001b[0m\u001b[0m\n\u001b[0;32m-> 2010\u001b[0;31m         \u001b[0mself\u001b[0m\u001b[0;34m.\u001b[0m\u001b[0m_reader\u001b[0m \u001b[0;34m=\u001b[0m \u001b[0mparsers\u001b[0m\u001b[0;34m.\u001b[0m\u001b[0mTextReader\u001b[0m\u001b[0;34m(\u001b[0m\u001b[0msrc\u001b[0m\u001b[0;34m,\u001b[0m \u001b[0;34m**\u001b[0m\u001b[0mkwds\u001b[0m\u001b[0;34m)\u001b[0m\u001b[0;34m\u001b[0m\u001b[0;34m\u001b[0m\u001b[0m\n\u001b[0m\u001b[1;32m   2011\u001b[0m         \u001b[0mself\u001b[0m\u001b[0;34m.\u001b[0m\u001b[0munnamed_cols\u001b[0m \u001b[0;34m=\u001b[0m \u001b[0mself\u001b[0m\u001b[0;34m.\u001b[0m\u001b[0m_reader\u001b[0m\u001b[0;34m.\u001b[0m\u001b[0munnamed_cols\u001b[0m\u001b[0;34m\u001b[0m\u001b[0;34m\u001b[0m\u001b[0m\n\u001b[1;32m   2012\u001b[0m \u001b[0;34m\u001b[0m\u001b[0m\n",
            "\u001b[0;32mpandas/_libs/parsers.pyx\u001b[0m in \u001b[0;36mpandas._libs.parsers.TextReader.__cinit__\u001b[0;34m()\u001b[0m\n",
            "\u001b[0;32mpandas/_libs/parsers.pyx\u001b[0m in \u001b[0;36mpandas._libs.parsers.TextReader._setup_parser_source\u001b[0;34m()\u001b[0m\n",
            "\u001b[0;31mFileNotFoundError\u001b[0m: [Errno 2] No such file or directory: 'benchmark/scipy_cfpq_tensor/wine.csv'"
          ]
        }
      ]
    }
  ]
}