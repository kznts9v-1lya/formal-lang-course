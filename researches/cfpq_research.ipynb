{
  "nbformat": 4,
  "nbformat_minor": 0,
  "metadata": {
    "colab": {
      "name": "CFPQ research",
      "provenance": [],
      "toc_visible": true
    },
    "kernelspec": {
      "name": "python3",
      "display_name": "Python 3"
    },
    "language_info": {
      "name": "python"
    },
    "accelerator": "GPU"
  },
  "cells": [
    {
      "cell_type": "markdown",
      "metadata": {
        "id": "R1s5-ZKPvJ54",
        "pycharm": {
          "name": "#%% md\n"
        }
      },
      "source": [
        "# Задача 12. Экспериментальное исследование алгоритмов решения задачи достижимости с контекстно-свободными ограничениями\n",
        "# Автор: [kznts9v-1lya](https://github.com/kznts9v-1lya)\n"
      ]
    },
    {
      "cell_type": "markdown",
      "metadata": {
        "id": "eBSWaL6AvWBJ"
      },
      "source": [
        "## Введение\n",
        "Пусть имеется размеченный ориентированный граф $G$. Будем интерпретировать его как конечный автомат. Таким образом, считаем, что граф $G$ (его представление в виде КА) задает регулярный язык $L_G$.\n",
        "\n",
        "Пусть нам задана КС-грамматика $CFG$, задающая язык ограничений $L_{CFG}$.\n",
        "\n",
        "Рассмотрим задачу $CFPQ = \\{(v_i, v_j)|\\exists\\pi:w(v_i\\pi v_j)\\in L, v_i\\in V_S, v_j\\in V_F\\}$, где $L = L_G\\cap L_{CFG}$\n",
        "\n",
        "Для языка $L_{CFG}$ строим рекурсивный автомат $-$ в нашем случае являющийся конечным автоматом над смешанным алфавитом грамматики."
      ]
    },
    {
      "cell_type": "markdown",
      "metadata": {
        "id": "QeZHINJ40Yf9",
        "pycharm": {
          "name": "#%% md\n"
        }
      },
      "source": [
        "## Постановка задачи\n",
        "Задача посвящена анализу производительности различных алгоритмов решения задачи достижимости с контекстно-свободными ограничениями: алгоритма Хеллингса, матричного алгоритма, тензорного алгоритма. В ходе анализа необходимо\n",
        "- Сравнить производительности реализаций различных алгоритмов для одной аппаратной платформы (CPU, GPU) и определить наиболее производительный алгоритм в рамках одной платформы.\n",
        "- Сравнить производительности различных реализаций алгоритмов для разных платформ (CPU vs. GPU) и определить наиболее производительную реализацию.\n",
        "- Сравнить производительности CFPQ алгоритмов со специализированными RPQ алгоритмами в задаче RPQ анализа и определить необходимость существования решения для частных случаев."
      ]
    },
    {
      "cell_type": "markdown",
      "metadata": {
        "id": "jiHQYjlV0xSX"
      },
      "source": [
        "## Описание работы\n",
        "\n",
        "- [x] Используя [pyCuBool](https://pypi.org/project/pycubool/) реализовать матричный алгоритм решения задачи достижимости с КС ограничениями. Аналогично тому, как это было сделано в домашней работе 10.\n",
        "- [x] Используя [pyCuBool](https://pypi.org/project/pycubool/) реализовать тензорный алгоритм решения задачи достижимости с КС ограничениями. Аналогично тому, как это было сделано в домашней работе 11.\n",
        "- [x] Подключить реализацию алгоритма Хеллингса из работы 9, матричного из 10 и тензорного из 11.\n",
        "- [x] Сформировать набор данных.\n",
        "  - [x] Выбрать все графы из раздела [RDF](https://jetbrains-research.github.io/CFPQ_Data/dataset/RDF.html).\n",
        "  - [x] Запросы к RDF состоят из следующих блоков\n",
        "    - Запросы из работы 5. Так как регулярные языки --- это подмножество контекстно-свободных, то решения, рассматриваемые в данной работе должны справляться с ними. Взять необходимо ровно те запросы, которые использовали именно вы. При этом, обратите внимание на то, что для разных алгоритмов нужен разный формат входа. Например, для тензорного грамматику из регулярного выражения можно получить просто сделав это выражение правой частью единственного правила.\n",
        "    - Три классических запроса для анализа иерархии.\n",
        "      - ```S -> subClassOf_r S subClassOf | type_r S type | subClassOf_r subClassOf | type_r type ```\n",
        "      - ```S -> subClassOf_r S subClassOf | subClassOf ```\n",
        "      - ```S -> broaderTransitive S broaderTransitive_r | broaderTransitive broaderTransitive_r ```\n",
        "  - [x] Выбрать графы bzip, gzip, ls, init, drivers, arch. Это графы, построенные по реальным программам и предназначенные для решения задач статического анализа.\n",
        "  - [x] Для статического анализа использовать единственный запрос. Обратите внимание, что он записан в максимально общем виде и непосредственно грамматика будет зависеть от алгоритма, который будет исследоваться.\n",
        "    - ```\n",
        "       M -> d_r V d\n",
        "       V -> (M? a_r)∗ M? (a M?)∗\n",
        "      ```\n",
        "- [x] С использованием сформированного набора данных провести сравнение производительности следующих решений\n",
        "  - алгоритм Хеллингса\n",
        "  - матричный алгоритм, реализованный с использованием sciPy\n",
        "  - тензорный алгоритм, реализованный с использованием sciPy\n",
        "  - матричный алгоритм, реализованный с использованием pyCuBool\n",
        "  - тензорный алгоритм, реализованный с использованием pyCuBool\n",
        "  - алгоритм выполнения регулярных запросов, реализованный с использованием pyCuBool (работа 5). Здесь только для RDF и регулярных запросов.\n",
        "  - алгоритм выполнения регулярных запросов, реализованный с использованием sciPy. Здесь только для RDF и регулярных запросов.\n",
        "- [x] Оформить результаты экспериментов\n",
        "- [x] Провести анализ результатов\n",
        "- [x] Сделать notebook доступным по ссылке (обязательно выдать права на комментирование проверяющему)"
      ]
    },
    {
      "cell_type": "markdown",
      "source": [
        "## Настройка проекта и зависимостей"
      ],
      "metadata": {
        "id": "7tIGrTTtkpDh"
      }
    },
    {
      "cell_type": "code",
      "source": [
        "!git clone https://github.com/kznts9v-1lya/formal-lang-course.git &> /dev/null"
      ],
      "metadata": {
        "id": "Qxoo8BC1kxBi"
      },
      "execution_count": 1,
      "outputs": []
    },
    {
      "cell_type": "code",
      "source": [
        "%cd formal-lang-course"
      ],
      "metadata": {
        "colab": {
          "base_uri": "https://localhost:8080/"
        },
        "id": "EMVc7eWnk1zC",
        "outputId": "22d03590-8352-45b4-8a63-b17252ee519d"
      },
      "execution_count": 2,
      "outputs": [
        {
          "output_type": "stream",
          "name": "stdout",
          "text": [
            "/content/formal-lang-course\n"
          ]
        }
      ]
    },
    {
      "cell_type": "code",
      "source": [
        "!git checkout task12-cfpq-research &> /dev/null"
      ],
      "metadata": {
        "id": "y-mE1ka6tJuD"
      },
      "execution_count": 3,
      "outputs": []
    },
    {
      "cell_type": "code",
      "source": [
        "%mkdir -p ./researches/data\n",
        "\n",
        "%mkdir ./researches/data/scipy_hellings_cfpq\n",
        "%mkdir ./researches/data/scipy_matrix_cfpq\n",
        "%mkdir ./researches/data/scipy_tensor_cfpq\n",
        "%mkdir ./researches/data/pycubool_matrix_cfpq\n",
        "%mkdir ./researches/data/pycubool_tensor_cfpq"
      ],
      "metadata": {
        "id": "FrfaHQ8Pk2eU"
      },
      "execution_count": 4,
      "outputs": []
    },
    {
      "cell_type": "code",
      "source": [
        "!pip install -r requirements.txt &> /dev/null"
      ],
      "metadata": {
        "id": "IarVeZDMk4Ot"
      },
      "execution_count": 5,
      "outputs": []
    },
    {
      "cell_type": "code",
      "source": [
        "!pip install pycubool &> /dev/null"
      ],
      "metadata": {
        "id": "wuoEBPRul5p8"
      },
      "execution_count": 6,
      "outputs": []
    },
    {
      "cell_type": "markdown",
      "source": [
        "## Описание набора данных"
      ],
      "metadata": {
        "id": "uCuP-_zGHCya"
      }
    },
    {
      "cell_type": "markdown",
      "source": [
        "### Графы\n",
        "\n",
        "Датасет состоит из графов и запросов, представленных контекстно-свободными грамматиками над метками соответствующих графов.\n",
        "\n",
        "Для проведения эксперимета использовались RDF графы, представленные в библиотеке [CFPQ_Data](https://github.com/JetBrains-Research/CFPQ_Data), кроме графов *taxonomy*, *taxonomy_hierarchy* (которые не поместились в ОЗУ) и *go_hierarchy* (который имеет всего одну метку)."
      ],
      "metadata": {
        "id": "AU4p6u14gu01"
      }
    },
    {
      "cell_type": "code",
      "source": [
        "from project.graph_tools import get_from_dataset"
      ],
      "metadata": {
        "id": "v2eedm0fnqNk"
      },
      "execution_count": 7,
      "outputs": []
    },
    {
      "cell_type": "code",
      "source": [
        "graph_names = [\n",
        "             'atom_primitive', \n",
        "             'biomedical_mesure_primitive', \n",
        "             'core', \n",
        "             'eclass_514en', \n",
        "             'enzyme', \n",
        "             'foaf', \n",
        "             'funding', \n",
        "             'generations', \n",
        "             'geospecies', \n",
        "             'go', \n",
        "             'go_hierarchy', \n",
        "             'pathways', \n",
        "             'people_pets', \n",
        "             'pizza', \n",
        "             'skos', \n",
        "             'travel', \n",
        "             'univ_bench', \n",
        "             'wine'\n",
        "] "
      ],
      "metadata": {
        "id": "fwH0AhcPoX5r"
      },
      "execution_count": 8,
      "outputs": []
    },
    {
      "cell_type": "markdown",
      "source": [
        "#### Загрузка данных"
      ],
      "metadata": {
        "id": "ZJWqPRRPoeJP"
      }
    },
    {
      "cell_type": "code",
      "source": [
        "graphs = {}\n",
        "\n",
        "for name in graph_names:\n",
        "  graph = get_from_dataset(name, True)\n",
        "  graphs[name] = graph"
      ],
      "metadata": {
        "colab": {
          "base_uri": "https://localhost:8080/"
        },
        "id": "DO6BGyyyopXK",
        "outputId": "7867c13f-69f4-48f4-dcd6-c879b0cb4b09"
      },
      "execution_count": 9,
      "outputs": [
        {
          "output_type": "stream",
          "name": "stderr",
          "text": [
            "Downloading 'atom_primitive'...: 100%|██████████| 3.10k/3.10k [00:00<00:00, 33.8kB/s]\n",
            "Loading...: 100%|██████████| 425/425 [00:00<00:00, 82968.55it/s]\n",
            "Downloading 'biomedical_mesure_primitive'...: 100%|██████████| 5.33k/5.33k [00:00<00:00, 64.5kB/s]\n",
            "Loading...: 100%|██████████| 459/459 [00:00<00:00, 51453.54it/s]\n",
            "Downloading 'core'...: 100%|██████████| 20.6k/20.6k [00:00<00:00, 180kB/s]\n",
            "Loading...: 100%|██████████| 2752/2752 [00:00<00:00, 76412.03it/s]\n",
            "Downloading 'eclass_514en'...: 100%|██████████| 1.68M/1.68M [00:00<00:00, 7.62MB/s]\n",
            "Loading...: 100%|██████████| 360248/360248 [00:06<00:00, 53414.55it/s]\n",
            "Downloading 'enzyme'...: 100%|██████████| 1.01M/1.01M [00:00<00:00, 5.30MB/s]\n",
            "Loading...: 100%|██████████| 86543/86543 [00:02<00:00, 30044.02it/s]\n",
            "Downloading 'foaf'...: 100%|██████████| 5.90k/5.90k [00:00<00:00, 67.0kB/s]\n",
            "Loading...: 100%|██████████| 631/631 [00:00<00:00, 62312.67it/s]\n",
            "Downloading 'funding'...: 100%|██████████| 18.6k/18.6k [00:00<00:00, 184kB/s]\n",
            "Loading...: 100%|██████████| 1086/1086 [00:00<00:00, 92245.98it/s]\n",
            "Downloading 'generations'...: 100%|██████████| 1.29k/1.29k [00:00<00:00, 14.7kB/s]\n",
            "Loading...: 100%|██████████| 273/273 [00:00<00:00, 81168.57it/s]\n",
            "Downloading 'geospecies'...: 100%|██████████| 9.11M/9.11M [00:00<00:00, 28.1MB/s]\n",
            "file:///usr/local/lib/python3.7/dist-packages/cfpq_data/data/RDF/Graphs/<http:/sw.opencyc.org/concept/Mx4rvVi495wpEbGdrcN5Y29ycA> does not look like a valid URI, trying to serialize this will break.\n",
            "file:///usr/local/lib/python3.7/dist-packages/cfpq_data/data/RDF/Graphs/<http:/sw.opencyc.org/concept/Mx4rvVi495wpEbGdrcN5Y29ycA> does not look like a valid URI, trying to serialize this will break.\n",
            "Loading...: 100%|██████████| 2201532/2201532 [00:35<00:00, 61313.42it/s]\n",
            "Downloading 'go'...: 100%|██████████| 7.29M/7.29M [00:00<00:00, 22.5MB/s]\n",
            "Loading...: 100%|██████████| 1437437/1437437 [00:28<00:00, 49850.65it/s]\n",
            "Downloading 'go_hierarchy'...: 100%|██████████| 1.02M/1.02M [00:00<00:00, 5.46MB/s]\n",
            "Loading...: 100%|██████████| 490109/490109 [00:05<00:00, 97369.88it/s]\n",
            "Downloading 'pathways'...: 100%|██████████| 55.6k/55.6k [00:00<00:00, 501kB/s]\n",
            "Loading...: 100%|██████████| 12363/12363 [00:00<00:00, 81688.43it/s]\n",
            "Downloading 'people_pets'...: 100%|██████████| 3.38k/3.38k [00:00<00:00, 40.3kB/s]\n",
            "Loading...: 100%|██████████| 640/640 [00:00<00:00, 98769.39it/s]\n",
            "Downloading 'pizza'...: 100%|██████████| 8.79k/8.79k [00:00<00:00, 96.7kB/s]\n",
            "Loading...: 100%|██████████| 1980/1980 [00:00<00:00, 84016.77it/s]\n",
            "Downloading 'skos'...: 100%|██████████| 4.21k/4.21k [00:00<00:00, 50.9kB/s]\n",
            "Loading...: 100%|██████████| 252/252 [00:00<00:00, 38789.12it/s]\n",
            "Downloading 'travel'...: 100%|██████████| 2.22k/2.22k [00:00<00:00, 29.4kB/s]\n",
            "Loading...: 100%|██████████| 277/277 [00:00<00:00, 109927.35it/s]\n",
            "Downloading 'univ_bench'...: 100%|██████████| 2.01k/2.01k [00:00<00:00, 24.2kB/s]\n",
            "Loading...: 100%|██████████| 293/293 [00:00<00:00, 79857.76it/s]\n",
            "Downloading 'wine'...: 100%|██████████| 5.78k/5.78k [00:00<00:00, 68.1kB/s]\n",
            "Loading...: 100%|██████████| 1839/1839 [00:00<00:00, 103811.86it/s]\n"
          ]
        }
      ]
    },
    {
      "cell_type": "markdown",
      "source": [
        "#### Характеристики данных"
      ],
      "metadata": {
        "id": "QUzf7i-rvmlS"
      }
    },
    {
      "cell_type": "code",
      "source": [
        "import pandas as pd\n",
        "\n",
        "data = {name: [graph.description.nodes, graph.description.edges, len(graph.description.edge_labels)] for name, graph in graphs.items()}\n",
        "columns = ['Nodes', 'Edges', 'Labels']\n",
        "\n",
        "graph_descriptions = pd.DataFrame.from_dict(data, orient='index', columns=columns)\n",
        "\n",
        "graph_descriptions"
      ],
      "metadata": {
        "colab": {
          "base_uri": "https://localhost:8080/",
          "height": 614
        },
        "id": "wrJv0ZBSvoJY",
        "outputId": "c4a4064e-516a-4a66-a620-c778542e4fa7"
      },
      "execution_count": 10,
      "outputs": [
        {
          "output_type": "execute_result",
          "data": {
            "text/html": [
              "<div>\n",
              "<style scoped>\n",
              "    .dataframe tbody tr th:only-of-type {\n",
              "        vertical-align: middle;\n",
              "    }\n",
              "\n",
              "    .dataframe tbody tr th {\n",
              "        vertical-align: top;\n",
              "    }\n",
              "\n",
              "    .dataframe thead th {\n",
              "        text-align: right;\n",
              "    }\n",
              "</style>\n",
              "<table border=\"1\" class=\"dataframe\">\n",
              "  <thead>\n",
              "    <tr style=\"text-align: right;\">\n",
              "      <th></th>\n",
              "      <th>Nodes</th>\n",
              "      <th>Edges</th>\n",
              "      <th>Labels</th>\n",
              "    </tr>\n",
              "  </thead>\n",
              "  <tbody>\n",
              "    <tr>\n",
              "      <th>atom_primitive</th>\n",
              "      <td>291</td>\n",
              "      <td>425</td>\n",
              "      <td>17</td>\n",
              "    </tr>\n",
              "    <tr>\n",
              "      <th>biomedical_mesure_primitive</th>\n",
              "      <td>341</td>\n",
              "      <td>459</td>\n",
              "      <td>10</td>\n",
              "    </tr>\n",
              "    <tr>\n",
              "      <th>core</th>\n",
              "      <td>1323</td>\n",
              "      <td>2752</td>\n",
              "      <td>31</td>\n",
              "    </tr>\n",
              "    <tr>\n",
              "      <th>eclass_514en</th>\n",
              "      <td>239111</td>\n",
              "      <td>360248</td>\n",
              "      <td>10</td>\n",
              "    </tr>\n",
              "    <tr>\n",
              "      <th>enzyme</th>\n",
              "      <td>48815</td>\n",
              "      <td>86543</td>\n",
              "      <td>14</td>\n",
              "    </tr>\n",
              "    <tr>\n",
              "      <th>foaf</th>\n",
              "      <td>256</td>\n",
              "      <td>631</td>\n",
              "      <td>15</td>\n",
              "    </tr>\n",
              "    <tr>\n",
              "      <th>funding</th>\n",
              "      <td>778</td>\n",
              "      <td>1086</td>\n",
              "      <td>20</td>\n",
              "    </tr>\n",
              "    <tr>\n",
              "      <th>generations</th>\n",
              "      <td>129</td>\n",
              "      <td>273</td>\n",
              "      <td>17</td>\n",
              "    </tr>\n",
              "    <tr>\n",
              "      <th>geospecies</th>\n",
              "      <td>450609</td>\n",
              "      <td>2201532</td>\n",
              "      <td>165</td>\n",
              "    </tr>\n",
              "    <tr>\n",
              "      <th>go</th>\n",
              "      <td>582929</td>\n",
              "      <td>1437437</td>\n",
              "      <td>47</td>\n",
              "    </tr>\n",
              "    <tr>\n",
              "      <th>go_hierarchy</th>\n",
              "      <td>45007</td>\n",
              "      <td>490109</td>\n",
              "      <td>1</td>\n",
              "    </tr>\n",
              "    <tr>\n",
              "      <th>pathways</th>\n",
              "      <td>6238</td>\n",
              "      <td>12363</td>\n",
              "      <td>5</td>\n",
              "    </tr>\n",
              "    <tr>\n",
              "      <th>people_pets</th>\n",
              "      <td>337</td>\n",
              "      <td>640</td>\n",
              "      <td>25</td>\n",
              "    </tr>\n",
              "    <tr>\n",
              "      <th>pizza</th>\n",
              "      <td>671</td>\n",
              "      <td>1980</td>\n",
              "      <td>23</td>\n",
              "    </tr>\n",
              "    <tr>\n",
              "      <th>skos</th>\n",
              "      <td>144</td>\n",
              "      <td>252</td>\n",
              "      <td>21</td>\n",
              "    </tr>\n",
              "    <tr>\n",
              "      <th>travel</th>\n",
              "      <td>131</td>\n",
              "      <td>277</td>\n",
              "      <td>22</td>\n",
              "    </tr>\n",
              "    <tr>\n",
              "      <th>univ_bench</th>\n",
              "      <td>179</td>\n",
              "      <td>293</td>\n",
              "      <td>14</td>\n",
              "    </tr>\n",
              "    <tr>\n",
              "      <th>wine</th>\n",
              "      <td>733</td>\n",
              "      <td>1839</td>\n",
              "      <td>35</td>\n",
              "    </tr>\n",
              "  </tbody>\n",
              "</table>\n",
              "</div>"
            ],
            "text/plain": [
              "                              Nodes    Edges  Labels\n",
              "atom_primitive                  291      425      17\n",
              "biomedical_mesure_primitive     341      459      10\n",
              "core                           1323     2752      31\n",
              "eclass_514en                 239111   360248      10\n",
              "enzyme                        48815    86543      14\n",
              "foaf                            256      631      15\n",
              "funding                         778     1086      20\n",
              "generations                     129      273      17\n",
              "geospecies                   450609  2201532     165\n",
              "go                           582929  1437437      47\n",
              "go_hierarchy                  45007   490109       1\n",
              "pathways                       6238    12363       5\n",
              "people_pets                     337      640      25\n",
              "pizza                           671     1980      23\n",
              "skos                            144      252      21\n",
              "travel                          131      277      22\n",
              "univ_bench                      179      293      14\n",
              "wine                            733     1839      35"
            ]
          },
          "metadata": {},
          "execution_count": 10
        }
      ]
    },
    {
      "cell_type": "markdown",
      "source": [
        "Граф go_hierarchy имеет всего 1 метку, поэтому не будем рассматривать этот набор данных:"
      ],
      "metadata": {
        "id": "nDKx9aAmyBnU"
      }
    },
    {
      "cell_type": "code",
      "source": [
        "graph_names.remove('go_hierarchy')\n",
        "graphs.pop('go_hierarchy', None)"
      ],
      "metadata": {
        "colab": {
          "base_uri": "https://localhost:8080/"
        },
        "id": "Z41pgBS6yHdn",
        "outputId": "17b69901-b498-4cb4-b1b7-f6d6329f19d8"
      },
      "execution_count": 11,
      "outputs": [
        {
          "output_type": "execute_result",
          "data": {
            "text/plain": [
              "<project.graph_tools.Graph at 0x7f1339bc1490>"
            ]
          },
          "metadata": {},
          "execution_count": 11
        }
      ]
    },
    {
      "cell_type": "markdown",
      "source": [
        "Разобьем графы на большие и небольшие для удобства постановки экспериментов:"
      ],
      "metadata": {
        "id": "fq2HmT_bypyl"
      }
    },
    {
      "cell_type": "code",
      "source": [
        "large_graph_names = ['eclass_514en', 'enzyme', 'geospecies', 'go']\n",
        "small_graph_names = list(set(graph_names) - set(large_graph_names))\n",
        "\n",
        "large_graphs = {name: graphs[name] for name in large_graph_names}\n",
        "small_graphs = {name: graphs[name] for name in small_graph_names}"
      ],
      "metadata": {
        "id": "ijEJ0s4nynGB"
      },
      "execution_count": 12,
      "outputs": []
    },
    {
      "cell_type": "markdown",
      "source": [
        "### Запросы\n",
        "\n",
        "- Регулярные запросы (так как регулярные языки $-$ это подмножество контекстно-свободных). К каждому графу $G$ отправлялись регулярные запросы следующего вида:\n",
        "\n",
        "  - $(l_1|l_2)*l_3$,\n",
        "\n",
        "  - $(l_1|l_2)^+l_3^*$,\n",
        "\n",
        "  - $l_1l_2l_3(l_4|l_1)^*$,\n",
        "\n",
        "  - $(l_1|l_2|l_3)^*$,\n",
        "  \n",
        "  где $l_1, l_2, l_3, l_4$ – первые 4 метки графа $G$. Все вершины графа помечались как стартовые и финальные.\n",
        "\n",
        "- Три классических запроса для анализа иерархии.\n",
        "\n",
        "  - ```\n",
        "  S -> subClassOf_r S subClassOf | type_r S type | subClassOf_r subClassOf | type_r type \n",
        "  ```\n",
        "\n",
        "  - ```\n",
        "  S -> subClassOf_r S subClassOf | subClassOf \n",
        "  ```\n",
        "\n",
        "  - ```\n",
        "  S -> broaderTransitive S broaderTransitive_r | broaderTransitive broaderTransitive_r \n",
        "  ```\n",
        "  \n",
        "- Для статического анализа:\n",
        "\n",
        "  - ```\n",
        "       M -> d_r V d\n",
        "       V -> (M? a_r)* M? (a M?)*\n",
        "    ```\n"
      ],
      "metadata": {
        "id": "cOSOmxy1nouE"
      }
    },
    {
      "cell_type": "markdown",
      "source": [
        "#### Генерация запросов"
      ],
      "metadata": {
        "id": "vykmsbqe44al"
      }
    },
    {
      "cell_type": "code",
      "source": [
        "from project.grammar_tools import get_cfg_from_text\n",
        "\n",
        "\n",
        "def create_first_regex(labels):\n",
        "  \"\"\"\n",
        "  (l1|l2)*l3\n",
        "  \"\"\"\n",
        "\n",
        "  r1 = str(labels[0])\n",
        "  r2 = str(labels[1])\n",
        "  r3 = str(labels[2])\n",
        "\n",
        "  return get_cfg_from_text(f'S -> A {r3}\\n A -> {r1} A \\n A -> {r2} A \\n A -> epsilon \\n')\n",
        "\n",
        "\n",
        "def create_second_regex(labels):\n",
        "  \"\"\"\n",
        "  (l1|l2)+l3*\n",
        "  \"\"\"\n",
        "\n",
        "  r1 = str(labels[0]) \n",
        "  r2 = str(labels[1])\n",
        "  r3 = str(labels[2])\n",
        "\n",
        "  return get_cfg_from_text(f'S -> С A B\\n A -> {r1} A \\n A -> {r2} A \\n A -> epsilon \\n B -> {r3} B \\n B -> epsilon \\n C -> {r1} | {r2}')\n",
        "\n",
        "\n",
        "def create_third_regex(labels):\n",
        "  \"\"\"\n",
        "  l1 l2 l3 (l4|l1)*\n",
        "  \"\"\"\n",
        "\n",
        "  r1 = str(labels[0])\n",
        "  r2 = str(labels[1])\n",
        "  r3 = str(labels[2])\n",
        "  r4 = str(labels[3])\n",
        "\n",
        "  return get_cfg_from_text(f'S -> {r1} {r2} {r3} A \\n A -> {r1} A \\n A -> {r4} A \\n A -> epsilon')\n",
        "\n",
        "\n",
        "def create_fourth_regex(labels):\n",
        "  \"\"\"\n",
        "  (l1|l2|l3)*\n",
        "  \"\"\"\n",
        "\n",
        "  r1 = str(labels[0])\n",
        "  r2 = str(labels[1])\n",
        "  r3 = str(labels[2])\n",
        "\n",
        "  return get_cfg_from_text(f'S -> epsilon \\n S -> {r1} S \\n S -> {r2} S \\n S -> {r3} S')\n",
        "\n",
        "\n",
        "def get_label_by_substr(labels, substr):\n",
        "  for label in labels:\n",
        "    if label.count(substr):\n",
        "      return label\n",
        "\n",
        "  return substr\n",
        "\n",
        "\n",
        "def add_reverse_labels(graph, labels, label):\n",
        "  e = list(graph.edges(data=\"label\", default=''))\n",
        "\n",
        "  for (u, v, l) in e:\n",
        "    if l.count(label):\n",
        "      graph.add_edge(v, u, label=l + '_r')\n",
        "\n",
        "\n",
        "def create_first_hierarchy(graph, labels):\n",
        "  subClassOf = get_label_by_substr(labels, 'subClassOf')\n",
        "  add_reverse_labels(graph, labels, 'subClassOf')\n",
        "  subClassOf_r = subClassOf + '_r'\n",
        "  type_ = get_label_by_substr(labels, 'type')\n",
        "  add_reverse_labels(graph, labels, 'type')\n",
        "  type_r = type_ + '_r'\n",
        "\n",
        "  return get_cfg_from_text(f'S -> {subClassOf_r} S {subClassOf} | {type_r} S {type_} | {subClassOf_r} {subClassOf} | {type_r} {type_}')\n",
        "\n",
        "\n",
        "def create_second_hierarchy(graph, labels):\n",
        "  subClassOf = get_label_by_substr(labels, 'subClassOf')\n",
        "  add_reverse_labels(graph, labels, 'subClassOf')\n",
        "  subClassOf_r = subClassOf + '_r'\n",
        "\n",
        "  return get_cfg_from_text(f'S -> {subClassOf_r} S {subClassOf} | {subClassOf}')\n",
        "\n",
        "\n",
        "def create_third_hierarchy(graph, labels):\n",
        "  broaderTransitive = get_label_by_substr(labels, 'broaderTransitive')\n",
        "  add_reverse_labels(graph, labels, 'broaderTransitive')\n",
        "  broaderTransitive_r = broaderTransitive + '_r'\n",
        "\n",
        "  return get_cfg_from_text(f'S -> {broaderTransitive} S {broaderTransitive_r} | {broaderTransitive} {broaderTransitive_r}')\n",
        "\n",
        "\n",
        "def create_queries(graph, labels):\n",
        "  return [\n",
        "      create_first_regex(labels),\n",
        "      create_second_regex(labels),\n",
        "      create_third_regex(labels),\n",
        "      create_fourth_regex(labels),\n",
        "      create_first_hierarchy(graph, labels),\n",
        "      create_second_hierarchy(graph, labels),\n",
        "      create_third_hierarchy(graph, labels)\n",
        "  ]"
      ],
      "metadata": {
        "id": "wtOdgPSV2u8w"
      },
      "execution_count": 24,
      "outputs": []
    },
    {
      "cell_type": "markdown",
      "source": [
        "## Описание эксперимента"
      ],
      "metadata": {
        "id": "yQm-3x6dHL_T"
      }
    },
    {
      "cell_type": "markdown",
      "source": [
        "### Оборудование\n",
        "Эксперимент проводился в облачной среде *Google Colab*. Алгоритм на основе матриц из `scipy` запускался на CPU, на основе `pyCuBool` – на GPU. \n"
      ],
      "metadata": {
        "id": "eLU7EFSijOUk"
      }
    },
    {
      "cell_type": "code",
      "source": [
        "!cat /etc/os-release"
      ],
      "metadata": {
        "colab": {
          "base_uri": "https://localhost:8080/"
        },
        "id": "29Pt6bBNjWu2",
        "outputId": "e20906ab-c68f-42fe-ead5-26a8362b5f91"
      },
      "execution_count": 25,
      "outputs": [
        {
          "output_type": "stream",
          "name": "stdout",
          "text": [
            "NAME=\"Ubuntu\"\n",
            "VERSION=\"18.04.5 LTS (Bionic Beaver)\"\n",
            "ID=ubuntu\n",
            "ID_LIKE=debian\n",
            "PRETTY_NAME=\"Ubuntu 18.04.5 LTS\"\n",
            "VERSION_ID=\"18.04\"\n",
            "HOME_URL=\"https://www.ubuntu.com/\"\n",
            "SUPPORT_URL=\"https://help.ubuntu.com/\"\n",
            "BUG_REPORT_URL=\"https://bugs.launchpad.net/ubuntu/\"\n",
            "PRIVACY_POLICY_URL=\"https://www.ubuntu.com/legal/terms-and-policies/privacy-policy\"\n",
            "VERSION_CODENAME=bionic\n",
            "UBUNTU_CODENAME=bionic\n"
          ]
        }
      ]
    },
    {
      "cell_type": "markdown",
      "source": [
        "CPU:"
      ],
      "metadata": {
        "id": "EH9yKOtejsOR"
      }
    },
    {
      "cell_type": "code",
      "source": [
        "!lscpu | grep 'Model name'\n",
        "!lscpu | grep 'Socket(s)'\n",
        "!lscpu | grep 'Core(s) per socket:'\n",
        "!lscpu | grep 'Thread(s) per core'\n",
        "!lscpu | grep \"MHz\""
      ],
      "metadata": {
        "colab": {
          "base_uri": "https://localhost:8080/"
        },
        "id": "ONhblglsjoDL",
        "outputId": "22855d44-4ba4-4ab1-8e3e-03b9bf5d9c18"
      },
      "execution_count": 26,
      "outputs": [
        {
          "output_type": "stream",
          "name": "stdout",
          "text": [
            "Model name:          Intel(R) Xeon(R) CPU @ 2.30GHz\n",
            "Socket(s):           1\n",
            "Core(s) per socket:  1\n",
            "Thread(s) per core:  2\n",
            "CPU MHz:             2299.998\n"
          ]
        }
      ]
    },
    {
      "cell_type": "markdown",
      "source": [
        "GPU:"
      ],
      "metadata": {
        "id": "iKg9azVOjwPw"
      }
    },
    {
      "cell_type": "code",
      "source": [
        "!/usr/local/cuda/bin/nvcc --version\n",
        "!nvidia-smi"
      ],
      "metadata": {
        "colab": {
          "base_uri": "https://localhost:8080/"
        },
        "id": "6d134PGvjyhK",
        "outputId": "266de715-3e4a-49a5-b168-1d3a22a9cfd3"
      },
      "execution_count": 27,
      "outputs": [
        {
          "output_type": "stream",
          "name": "stdout",
          "text": [
            "nvcc: NVIDIA (R) Cuda compiler driver\n",
            "Copyright (c) 2005-2020 NVIDIA Corporation\n",
            "Built on Mon_Oct_12_20:09:46_PDT_2020\n",
            "Cuda compilation tools, release 11.1, V11.1.105\n",
            "Build cuda_11.1.TC455_06.29190527_0\n",
            "Tue Dec 14 14:21:46 2021       \n",
            "+-----------------------------------------------------------------------------+\n",
            "| NVIDIA-SMI 495.44       Driver Version: 460.32.03    CUDA Version: 11.2     |\n",
            "|-------------------------------+----------------------+----------------------+\n",
            "| GPU  Name        Persistence-M| Bus-Id        Disp.A | Volatile Uncorr. ECC |\n",
            "| Fan  Temp  Perf  Pwr:Usage/Cap|         Memory-Usage | GPU-Util  Compute M. |\n",
            "|                               |                      |               MIG M. |\n",
            "|===============================+======================+======================|\n",
            "|   0  Tesla K80           Off  | 00000000:00:04.0 Off |                    0 |\n",
            "| N/A   72C    P8    32W / 149W |      3MiB / 11441MiB |      0%      Default |\n",
            "|                               |                      |                  N/A |\n",
            "+-------------------------------+----------------------+----------------------+\n",
            "                                                                               \n",
            "+-----------------------------------------------------------------------------+\n",
            "| Processes:                                                                  |\n",
            "|  GPU   GI   CI        PID   Type   Process name                  GPU Memory |\n",
            "|        ID   ID                                                   Usage      |\n",
            "|=============================================================================|\n",
            "|  No running processes found                                                 |\n",
            "+-----------------------------------------------------------------------------+\n"
          ]
        }
      ]
    },
    {
      "cell_type": "markdown",
      "source": [
        "RAM:"
      ],
      "metadata": {
        "id": "As4blN2ckKG7"
      }
    },
    {
      "cell_type": "code",
      "source": [
        "!grep MemTotal /proc/meminfo"
      ],
      "metadata": {
        "colab": {
          "base_uri": "https://localhost:8080/"
        },
        "id": "2GbpdghnkL8u",
        "outputId": "5030bfa2-47bf-47fc-fe92-eec03f6ac148"
      },
      "execution_count": 28,
      "outputs": [
        {
          "output_type": "stream",
          "name": "stdout",
          "text": [
            "MemTotal:       13302924 kB\n"
          ]
        }
      ]
    },
    {
      "cell_type": "markdown",
      "source": [
        "### Используемые алгоритмы\n",
        "\n",
        "В данном разделе представлены алгоритмы и их реализации, используемые при проведении эксперимента.\n"
      ],
      "metadata": {
        "id": "lZvfQgKV_Z2L"
      }
    },
    {
      "cell_type": "markdown",
      "source": [
        "#### scipy (CPU)"
      ],
      "metadata": {
        "id": "i83YZeE0HPcf"
      }
    },
    {
      "cell_type": "code",
      "source": [
        "from project.path_querying_tools import (\n",
        "    hellings_context_free_path_querying,\n",
        "    matrix_context_free_path_querying,\n",
        "    tensor_context_free_path_querying\n",
        ")"
      ],
      "metadata": {
        "id": "sg8b0lua_oWk"
      },
      "execution_count": 29,
      "outputs": []
    },
    {
      "cell_type": "markdown",
      "source": [
        "#### pyCuBool (GPU)"
      ],
      "metadata": {
        "id": "orO-5MDW_p-o"
      }
    },
    {
      "cell_type": "code",
      "source": [
        "import pycubool as cb\n",
        "\n",
        "from typing import Set, Tuple\n",
        "from networkx import MultiDiGraph\n",
        "from pyformlang.cfg import CFG\n",
        "from project.grammar_tools import get_wcnf_from_cfg\n",
        "\n",
        "\n",
        "def cb_matrix_cfpq(graph: MultiDiGraph, cfg: CFG) -> Set[Tuple[int, str, int]]:\n",
        "    wcnf = get_wcnf_from_cfg(cfg)\n",
        "\n",
        "    eps_prod_heads = [p.head.value for p in wcnf.productions if not p.body]\n",
        "    term_productions = {p for p in wcnf.productions if len(p.body) == 1}\n",
        "    var_productions = {p for p in wcnf.productions if len(p.body) == 2}\n",
        "    nodes_num = graph.number_of_nodes()\n",
        "\n",
        "    matrices = {\n",
        "        v.value: cb.Matrix.empty(shape=(nodes_num, nodes_num)) for v in wcnf.variables\n",
        "    }\n",
        "\n",
        "    for i, j, data in graph.edges(data=True):\n",
        "        l = data[\"label\"]\n",
        "\n",
        "        for v in {p.head.value for p in term_productions if p.body[0].value == l}:\n",
        "            matrices[v][i, j] = True\n",
        "\n",
        "    for i in range(nodes_num):\n",
        "        for v in eps_prod_heads:\n",
        "            matrices[v][i, i] = True\n",
        "\n",
        "    any_changing = True\n",
        "    while any_changing:\n",
        "        any_changing = False\n",
        "\n",
        "        for p in var_productions:\n",
        "            old_nnz = set(matrices[p.head.value].to_list())\n",
        "\n",
        "            matrices[p.head.value] = matrices[p.head.value].ewiseadd(\n",
        "                matrices[p.body[0].value].mxm(matrices[p.body[1].value])\n",
        "            )\n",
        "\n",
        "            new_nnz = set(matrices[p.head.value].to_list())\n",
        "            any_changing = any_changing or old_nnz != new_nnz\n",
        "\n",
        "    return {\n",
        "        (u, variable, v)\n",
        "        for variable, matrix in matrices.items()\n",
        "        for u, v in matrix.to_list()\n",
        "    }"
      ],
      "metadata": {
        "id": "y68xrWhI_6a4"
      },
      "execution_count": 30,
      "outputs": []
    },
    {
      "cell_type": "code",
      "source": [
        "from pyformlang.finite_automaton import NondeterministicFiniteAutomaton\n",
        "\n",
        "\n",
        "class CuBoolMatrices:\n",
        "  def __init__(self, n_automaton: NondeterministicFiniteAutomaton = None):\n",
        "      if n_automaton is None:\n",
        "          self.states_count = 0\n",
        "          self.state_indices = dict()\n",
        "          self.start_states = set()\n",
        "          self.final_states = set()\n",
        "          self.bool_matrices = dict()\n",
        "      else:\n",
        "          self.states_count = len(n_automaton.states)\n",
        "          self.state_indices = {\n",
        "              state: index for index, state in enumerate(n_automaton.states)\n",
        "          }\n",
        "          self.start_states = n_automaton.start_states\n",
        "          self.final_states = n_automaton.final_states\n",
        "          self.bool_matrices = self._init_bool_matrices(n_automaton)\n",
        "\n",
        "  def get_states(self):\n",
        "      return self.state_indices.keys()\n",
        "\n",
        "  def get_start_states(self):\n",
        "      return self.start_states\n",
        "\n",
        "  def get_final_states(self):\n",
        "      return self.final_states\n",
        "\n",
        "  def _init_bool_matrices(self, n_automaton: NondeterministicFiniteAutomaton):\n",
        "      \"\"\"\n",
        "      Initialize boolean matrices of NondeterministicFiniteAutomaton\n",
        "\n",
        "      Parameters\n",
        "      ----------\n",
        "      n_automaton: NondeterministicFiniteAutomaton\n",
        "          NFA to transform to matrix\n",
        "\n",
        "      Returns\n",
        "      -------\n",
        "      bool_matrices: dict\n",
        "          Dict of boolean matrix for every automata label-key\n",
        "      \"\"\"\n",
        "\n",
        "      bool_matrices = dict()\n",
        "      nfa_dict = n_automaton.to_dict()\n",
        "      for state_from, trans in nfa_dict.items():\n",
        "          for label, states_to in trans.items():\n",
        "              if not isinstance(states_to, set):\n",
        "                  states_to = {states_to}\n",
        "              for state_to in states_to:\n",
        "                  index_from = self.state_indices[state_from]\n",
        "                  index_to = self.state_indices[state_to]\n",
        "                  if label not in bool_matrices:\n",
        "                      bool_matrices[label] = cb.Matrix.empty(shape=(self.states_count, self.states_count))           \n",
        "                  bool_matrices[label][index_from, index_to] = True\n",
        "\n",
        "      return bool_matrices\n",
        "\n",
        "  def make_transitive_closure(self):\n",
        "      \"\"\"\n",
        "      Makes transitive closure of boolean matrices\n",
        "\n",
        "      Returns\n",
        "      -------\n",
        "      tc: cuBool matrix\n",
        "          Transitive closure of boolean matrices\n",
        "      \"\"\"\n",
        "\n",
        "      if not self.bool_matrices.values():\n",
        "          return cb.Matrix.empty(shape=(2, 2))\n",
        "\n",
        "      shape = list(self.bool_matrices.values())[0].shape\n",
        "      tc = cb.Matrix.empty(shape=shape)\n",
        "\n",
        "      for elem in self.bool_matrices.values():\n",
        "          tc = tc.ewiseadd(elem)\n",
        "      prev_nnz = tc.nvals\n",
        "      curr_nnz = 0\n",
        "\n",
        "      while prev_nnz != curr_nnz:\n",
        "          tc = tc.ewiseadd(tc.mxm(tc))\n",
        "          prev_nnz, curr_nnz = curr_nnz, tc.nvals\n",
        "\n",
        "      return tc\n",
        "\n",
        "\n",
        "def intersect_cu_bool_matrices(self: CuBoolMatrices, other: CuBoolMatrices):\n",
        "    \"\"\"\n",
        "    Makes intersection of self boolean matrix with other\n",
        "\n",
        "    Parameters\n",
        "    ----------\n",
        "    self: CuBooleanMatrices\n",
        "        Left-hand side boolean matrix\n",
        "    other: CuBooleanMatrices\n",
        "        Right-hand side boolean matrix\n",
        "\n",
        "    Returns\n",
        "    -------\n",
        "    intersect_bm: CuBooleanMatrices\n",
        "        Intersection of two boolean matrices\n",
        "    \"\"\"\n",
        "\n",
        "    intersect_bm = CuBoolMatrices()\n",
        "    intersect_bm.num_states = self.states_count * other.states_count\n",
        "    common_symbols = self.bool_matrices.keys() & other.bool_matrices.keys()\n",
        "\n",
        "    for symbol in common_symbols:\n",
        "        intersect_bm.bool_matrices[symbol] = self.bool_matrices[symbol].kronecker(other.bool_matrices[symbol])\n",
        "        \n",
        "    for state_fst, state_fst_index in self.state_indices.items():\n",
        "        for state_snd, state_snd_idx in other.state_indices.items():\n",
        "            new_state = new_state_idx = (\n",
        "                state_fst_index * other.states_count + state_snd_idx\n",
        "            )\n",
        "            intersect_bm.state_indices[new_state] = new_state_idx\n",
        "\n",
        "            if state_fst in self.start_states and state_snd in other.start_states:\n",
        "                intersect_bm.start_states.add(new_state)\n",
        "\n",
        "            if state_fst in self.final_states and state_snd in other.final_states:\n",
        "                intersect_bm.final_states.add(new_state)\n",
        "\n",
        "    return intersect_bm"
      ],
      "metadata": {
        "id": "qCzTgG4F28SL"
      },
      "execution_count": 31,
      "outputs": []
    },
    {
      "cell_type": "code",
      "source": [
        "from project.automaton_tools import get_rsm_from_ecfg, get_nfa_from_graph\n",
        "\n",
        "\n",
        "def cb_tensor_cfpq(graph: MultiDiGraph, cfg: CFG) -> Set[Tuple[int, str, int]]:\n",
        "    wcnf = get_wcnf_from_cfg(cfg)\n",
        "\n",
        "    n = sum(len(p.body) + 1 for p in wcnf.productions)\n",
        "    rsm_heads = dict()\n",
        "    nonterm = set()\n",
        "    boxes = dict()\n",
        "    start_states = set()\n",
        "    final_states = set()\n",
        "    counter = 0\n",
        "\n",
        "    nfa_by_graph = get_nfa_from_graph(graph)\n",
        "    bm = CuBoolMatrices(nfa_by_graph)\n",
        "\n",
        "    for p in wcnf.productions:\n",
        "        nonterm.add(p.head.value)\n",
        "        start_states.add(counter)\n",
        "        final_states.add(counter + len(p.body))\n",
        "        rsm_heads[(counter, counter + len(p.body))] = p.head.value\n",
        "\n",
        "        for b in p.body:\n",
        "            m = boxes.get(b.value, cb.Matrix.empty(shape=(n,n)))\n",
        "            m[counter, counter + 1] = True\n",
        "            boxes[b.value] = m\n",
        "            counter += 1\n",
        "\n",
        "        counter += 1\n",
        "\n",
        "    for p in wcnf.productions:\n",
        "        if len(p.body) == 0:\n",
        "            tmp = cb.Matrix.empty(shape=(bm.states_count, bm.states_count))\n",
        "\n",
        "            for i in range(bm.states_count):\n",
        "              tmp[i, i] = True\n",
        "\n",
        "            bm.bool_matrices[p.head.value] = tmp\n",
        "\n",
        "    bfa = CuBoolMatrices()\n",
        "    bfa.start_states = start_states\n",
        "    bfa.final_states = final_states\n",
        "    bfa.bool_matrices = boxes\n",
        "    bfa.states_count = n\n",
        "\n",
        "    prev_nnz = -2\n",
        "    new_nnz = -1\n",
        "    while prev_nnz != new_nnz:\n",
        "        transitive_closure = intersect_cu_bool_matrices(\n",
        "            bfa, bm\n",
        "        ).make_transitive_closure()\n",
        "        prev_nnz, new_nnz = new_nnz, transitive_closure.nvals\n",
        "        x, y = transitive_closure.to_lists()\n",
        "\n",
        "        for (i, j) in zip(x, y):\n",
        "            rfa_from = i // bm.states_count\n",
        "            rfa_to = j // bm.states_count\n",
        "            graph_from = i % bm.states_count\n",
        "            graph_to = j % bm.states_count\n",
        "\n",
        "            if (rfa_from, rfa_to) not in rsm_heads:\n",
        "                continue\n",
        "\n",
        "            variable = rsm_heads[(rfa_from, rfa_to)]\n",
        "            m = bm.bool_matrices.get(\n",
        "                variable,\n",
        "                cb.Matrix.empty(shape=(bm.states_count, bm.states_count)),\n",
        "            )\n",
        "\n",
        "            m[graph_from, graph_to] = True\n",
        "            bm.bool_matrices[variable] = m\n",
        "\n",
        "    return {\n",
        "        (u, key, v)\n",
        "        for key, m in bm.bool_matrices.items()\n",
        "        if key in nonterm\n",
        "        for (u, v) in zip(*m.to_lists())\n",
        "    }"
      ],
      "metadata": {
        "id": "96Msb6xJwjSO"
      },
      "execution_count": 32,
      "outputs": []
    },
    {
      "cell_type": "code",
      "source": [
        "from pyformlang.cfg import Variable\n",
        "from project.path_querying_tools import _context_free_path_querying\n",
        "\n",
        "\n",
        "def cb_matrix_context_free_path_querying(\n",
        "        graph: MultiDiGraph,\n",
        "        cfg: CFG,\n",
        "        start_symbol: str = \"S\",\n",
        "        start_node_nums: Set[int] = None,\n",
        "        final_node_nums: Set[int] = None,\n",
        ") -> Set[Tuple[int, int]]:\n",
        "    return _context_free_path_querying(graph, cfg, start_symbol, start_node_nums, final_node_nums, algorithm=cb_matrix_cfpq)\n",
        "\n",
        "\n",
        "def cb_tensor_context_free_path_querying(\n",
        "        graph: MultiDiGraph,\n",
        "        cfg: CFG,\n",
        "        start_symbol: str = \"S\",\n",
        "        start_node_nums: Set[int] = None,\n",
        "        final_node_nums: Set[int] = None,\n",
        ") -> Set[Tuple[int, int]]:\n",
        "    return _context_free_path_querying(graph, cfg, start_symbol, start_node_nums, final_node_nums, algorithm=cb_tensor_cfpq)"
      ],
      "metadata": {
        "id": "2X695F3mEzxn"
      },
      "execution_count": 33,
      "outputs": []
    },
    {
      "cell_type": "markdown",
      "source": [
        "#### Проверка корректности реализации\n",
        "\n",
        "Основана на предыдущих тестах."
      ],
      "metadata": {
        "id": "WWbaEQHOHj8A"
      }
    },
    {
      "cell_type": "code",
      "source": [
        "from project.graph_tools import get_two_cycles\n",
        "from project.grammar_tools import matrix_cfpq, tensor_cfpq\n",
        "from cfpq_data import labeled_cycle_graph\n",
        "\n",
        "tests = {\n",
        "    (\n",
        "        CFG.from_text(\n",
        "          \"\"\"\n",
        "          S -> epsilon\n",
        "          \"\"\"\n",
        "        ),\n",
        "        get_two_cycles(2, 1).graph\n",
        "    ),\n",
        "    (\n",
        "        CFG.from_text(\n",
        "            \"\"\"\n",
        "            S -> a | epsilon\n",
        "            \"\"\"\n",
        "        ),\n",
        "        labeled_cycle_graph(3, \"a\", verbose=False)\n",
        "    ),\n",
        "    (\n",
        "        CFG.from_text(\n",
        "            \"\"\"\n",
        "                S -> A B\n",
        "                S -> A C\n",
        "                C -> S B\n",
        "                A -> a\n",
        "                B -> b\n",
        "            \"\"\"\n",
        "        ),\n",
        "        get_two_cycles(3, 2).graph\n",
        "    ),\n",
        "    (\n",
        "        CFG.from_text(\n",
        "          \"\"\"\n",
        "              S -> A B\n",
        "              S -> A C\n",
        "              C -> S B\n",
        "              A -> a\n",
        "              B -> b\n",
        "          \"\"\"\n",
        "        ),\n",
        "        get_two_cycles(3, 2).graph\n",
        "\n",
        "    )\n",
        "}\n",
        "\n",
        "for (cfg, graph) in tests:\n",
        "  assert cb_matrix_cfpq(graph, cfg) == matrix_cfpq(graph, cfg)\n",
        "  assert cb_tensor_cfpq(graph, cfg) == tensor_cfpq(graph, cfg)"
      ],
      "metadata": {
        "id": "lCi4e9iNH9u2"
      },
      "execution_count": 34,
      "outputs": []
    },
    {
      "cell_type": "markdown",
      "source": [
        "### Окружение\n",
        "\n",
        "Вспомогательные функции эксперимента для замеров и контроля вычислений."
      ],
      "metadata": {
        "id": "CMHGglPcnX9z"
      }
    },
    {
      "cell_type": "code",
      "source": [
        "import csv\n",
        "import signal\n",
        "import time\n",
        "\n",
        "from tqdm import tqdm"
      ],
      "metadata": {
        "id": "J8NqMBdH3-cH"
      },
      "execution_count": 35,
      "outputs": []
    },
    {
      "cell_type": "code",
      "source": [
        "def write_measurements(path, rows):\n",
        "  fieldnames = ['Query', 'CFPQ_size', 'Time(s)']\n",
        "\n",
        "  with open(path, 'w', encoding='UTF8', newline='') as f:\n",
        "    writer = csv.DictWriter(f, fieldnames=fieldnames)\n",
        "    writer.writeheader()\n",
        "    writer.writerows(rows)"
      ],
      "metadata": {
        "id": "mk_3N9Kv5iyS"
      },
      "execution_count": 36,
      "outputs": []
    },
    {
      "cell_type": "code",
      "source": [
        "def signal_handler(signum, frame):\n",
        "    raise Exception(\"Timed out!\")\n",
        "\n",
        "signal.signal(signal.SIGALRM, signal_handler)"
      ],
      "metadata": {
        "colab": {
          "base_uri": "https://localhost:8080/"
        },
        "id": "mZYmwSE15rQ3",
        "outputId": "a8e6ff49-bbf7-46d6-8cdf-8e6ae0efe32e"
      },
      "execution_count": 37,
      "outputs": [
        {
          "output_type": "execute_result",
          "data": {
            "text/plain": [
              "<Handlers.SIG_DFL: 0>"
            ]
          },
          "metadata": {},
          "execution_count": 37
        }
      ]
    },
    {
      "cell_type": "code",
      "source": [
        "def measure_cfpq_time(graph, queries, algos, num_runs, timeouts=None):\n",
        "    rows = []\n",
        "\n",
        "    for _ in range(num_runs):\n",
        "      for i, query in enumerate(queries):\n",
        "        cfpq_ans = start_time = end_time = None\n",
        "\n",
        "        if timeouts:\n",
        "            signal.alarm(int(timeouts[i] + 1))\n",
        "\n",
        "        try:\n",
        "            start_time = time.time()\n",
        "            if algos == 'hellings_cfpq':\n",
        "              cfpq_ans = hellings_context_free_path_querying(graph, query)\n",
        "            elif algos == 'matrix_cfpq':\n",
        "              cfpq_ans = matrix_context_free_path_querying(graph, query)\n",
        "            elif algos == 'tensor_cfpq':\n",
        "              cfpq_ans = tensor_context_free_path_querying(graph, query)\n",
        "            elif algos == 'cb_matrix_cfpq':\n",
        "              cfpq_ans = cb_matrix_context_free_path_querying(graph, query)\n",
        "            elif algos == 'cb_tensor_cfpq':\n",
        "              cfpq_ans = cb_tensor_context_free_path_querying(graph, query)\n",
        "            end_time = time.time()\n",
        "        except Exception:\n",
        "            end_time = time.time()\n",
        "\n",
        "        rows.append({\n",
        "            'Time(s)': end_time - start_time, \n",
        "            'CFPQ_size': len(cfpq_ans) if cfpq_ans else 'NaN', \n",
        "            'Query': i\n",
        "            })\n",
        "        \n",
        "    return rows"
      ],
      "metadata": {
        "id": "0qEaoZde6gsB"
      },
      "execution_count": 38,
      "outputs": []
    },
    {
      "cell_type": "code",
      "source": [
        "def measure_algos_performance(graphs, num_runs, algos, timeouts=None):\n",
        "  for algo_name, algo, path in algos:\n",
        "    print(f'Measuring performance of algorithm {algo} based on {algo_name} ...')\n",
        "\n",
        "    for graph_name, graph in tqdm(graphs.items()):\n",
        "      edge_labels = list(graph.description.edge_labels)\n",
        "\n",
        "      measurements = measure_cfpq_time(\n",
        "          graph.graph, \n",
        "          create_queries(graph.graph, edge_labels), \n",
        "          algo, \n",
        "          num_runs=num_runs,\n",
        "          timeouts=timeouts\n",
        "          )\n",
        "      \n",
        "      write_measurements(f'{path}/{graph_name}.csv', measurements)"
      ],
      "metadata": {
        "id": "iBDacWom65ck"
      },
      "execution_count": 39,
      "outputs": []
    },
    {
      "cell_type": "code",
      "source": [
        "def create_df(graph_names, algos):\n",
        "  dfs = []\n",
        "\n",
        "  for algo_name, algo, path in algos:\n",
        "    for graph_name in graph_names:\n",
        "      df = pd.read_csv(f'{path}/{graph_name}.csv')\n",
        "      df.insert(0, 'Algorithm', algo_name + '_' + algo)\n",
        "      df.insert(0, 'Graph', graph_name)\n",
        "      dfs.append(df)\n",
        "\n",
        "  return pd.concat(dfs, ignore_index=True)"
      ],
      "metadata": {
        "id": "i8BEeMyF9mr4"
      },
      "execution_count": 40,
      "outputs": []
    },
    {
      "cell_type": "code",
      "source": [
        "def show_barplots(df, title):\n",
        "  fig, axes = plt.subplots(7, 2, figsize=(18, 40))\n",
        "  fig.subplots_adjust(left=0.05, bottom=0.1, right=0.9, top=0.9, wspace=0.2, hspace=0.5)\n",
        "  fig.suptitle(title, fontsize=25)\n",
        "  fig.delaxes(axes[6, 1])\n",
        "\n",
        "  for i, name in enumerate(small_graph_names):\n",
        "    sns.barplot(ax=axes[i // 2, i % 2], x=\"Query\", y=\"Time(s)\", hue='Algorithm', data=df[df['Graph'] == name]).set_title(name)\n",
        "\n",
        "  plt.show();"
      ],
      "metadata": {
        "id": "QL-yWITh9n2z"
      },
      "execution_count": 41,
      "outputs": []
    },
    {
      "cell_type": "markdown",
      "source": [
        "## Проведение эксперимента"
      ],
      "metadata": {
        "id": "mqxmgcud9rj4"
      }
    },
    {
      "cell_type": "markdown",
      "source": [
        "### Небольшие графы"
      ],
      "metadata": {
        "id": "_T1k9a174kda"
      }
    },
    {
      "cell_type": "markdown",
      "source": [
        "#### scipy (CPU)\n",
        "\n",
        "\n"
      ],
      "metadata": {
        "id": "0llauDYRNYGc"
      }
    },
    {
      "cell_type": "code",
      "source": [
        "scipy_algos = [\n",
        "      ('scipy', 'hellings_cfpq', 'researches/data/scipy_hellings_cfpq'),\n",
        "      ('scipy', 'matrix_cfpq', 'researches/data/scipy_matrix_cfpq'),\n",
        "      ('scipy', 'tensor_cfpq', 'researches/data/scipy_tensor_cfpq'),\n",
        "]"
      ],
      "metadata": {
        "id": "iqykRFJw-E_c"
      },
      "execution_count": 42,
      "outputs": []
    },
    {
      "cell_type": "code",
      "source": [
        "measure_algos_performance(small_graphs, num_runs=10, algos=scipy_algos)"
      ],
      "metadata": {
        "colab": {
          "base_uri": "https://localhost:8080/"
        },
        "id": "NLF1TttX-HZj",
        "outputId": "6763291f-33ab-415a-f5f0-70974cd460e6"
      },
      "execution_count": null,
      "outputs": [
        {
          "output_type": "stream",
          "name": "stdout",
          "text": [
            "Measuring performance of algorithm hellings_cfpq based on scipy ...\n"
          ]
        },
        {
          "output_type": "stream",
          "name": "stderr",
          "text": [
            "100%|██████████| 13/13 [15:32<00:00, 71.76s/it]\n"
          ]
        },
        {
          "output_type": "stream",
          "name": "stdout",
          "text": [
            "Measuring performance of algorithm matrix_cfpq based on scipy ...\n"
          ]
        },
        {
          "output_type": "stream",
          "name": "stderr",
          "text": [
            "100%|██████████| 13/13 [00:41<00:00,  3.16s/it]\n"
          ]
        },
        {
          "output_type": "stream",
          "name": "stdout",
          "text": [
            "Measuring performance of algorithm tensor_cfpq based on scipy ...\n"
          ]
        },
        {
          "output_type": "stream",
          "name": "stderr",
          "text": [
            " 23%|██▎       | 3/13 [1:56:13<6:33:06, 2358.69s/it] "
          ]
        }
      ]
    },
    {
      "cell_type": "code",
      "source": [
        "df_sm_scipy = pd.merge(create_df(small_graph_names, scipy_algos), graph_description, right_index=True, left_on='Graph')\n",
        "show_barplots(df_sm_scipy, 'Производительность алгоритмов с scipy на небольших графах')"
      ],
      "metadata": {
        "id": "2Uq21m7z-J7z"
      },
      "execution_count": null,
      "outputs": []
    },
    {
      "cell_type": "markdown",
      "source": [
        "#### pyCuBool (GPU)"
      ],
      "metadata": {
        "id": "yNsc2dKjNklD"
      }
    },
    {
      "cell_type": "code",
      "source": [
        "pycubool_algos = [\n",
        "         ('pycubool', 'cb_matrix_cfpq', 'researches/data/pycubool_matrix_cfpq'),\n",
        "         ('pycubool', 'cb_tensor_cfpq', 'researches/data/pycubool_tensor_cfpq'),\n",
        "]"
      ],
      "metadata": {
        "id": "PkBmOkD5NoOf"
      },
      "execution_count": null,
      "outputs": []
    },
    {
      "cell_type": "code",
      "source": [
        "measure_algos_performance(small_graphs, num_runs=10, algos=pycubool_algos)"
      ],
      "metadata": {
        "id": "nqObhLaCPPI3"
      },
      "execution_count": null,
      "outputs": []
    },
    {
      "cell_type": "code",
      "source": [
        "df_sm_pycubool = pd.merge(create_df(small_graph_names, pycubool_algos), graph_info, right_index=True, left_on='Graph')\n",
        "show_barplots(df_sm_pycubool, 'Производительность алгоритмов с pyCuBool на небольших графах')"
      ],
      "metadata": {
        "id": "7iTiPX_TPSfj"
      },
      "execution_count": null,
      "outputs": []
    },
    {
      "cell_type": "markdown",
      "source": [
        "### Большие графы"
      ],
      "metadata": {
        "id": "VKZH8JXM4pwB"
      }
    }
  ]
}